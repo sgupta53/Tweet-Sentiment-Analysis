{
 "cells": [
  {
   "cell_type": "markdown",
   "metadata": {},
   "source": [
    "# Trump Twitter Sentiment Analysis \n",
    "\n",
    "In this notebook, I will walk through how I went about doing sentiment analysis on Trump's Tweets, using Twitter API's to extract his tweets. I also use various tools such as Pandas to make data analysis easier. "
   ]
  },
  {
   "cell_type": "code",
   "execution_count": 1,
   "metadata": {},
   "outputs": [],
   "source": [
    "# Run this cell to set up your notebook\n",
    "import csv\n",
    "import numpy as np\n",
    "import pandas as pd\n",
    "import matplotlib.pyplot as plt\n",
    "%matplotlib inline\n",
    "plt.style.use('fivethirtyeight')\n",
    "import seaborn as sns\n",
    "sns.set()\n",
    "sns.set_context(\"talk\")\n",
    "import re\n",
    "\n",
    "from IPython.display import display, Latex, Markdown\n",
    "from client.api.notebook import Notebook"
   ]
  },
  {
   "cell_type": "markdown",
   "metadata": {},
   "source": [
    "\n",
    "<br/><br/><br/>\n",
    "\n",
    "# Getting the Dataset\n",
    "\n",
    "---\n",
    "\n",
    "Since we'll be looking at Twitter data, we need to download the data from Twitter!\n",
    "\n",
    "Twitter provides an API for downloading tweet data in large batches.  The `tweepy` package makes it fairly easy to use."
   ]
  },
  {
   "cell_type": "markdown",
   "metadata": {},
   "source": [
    "#### Setup\n",
    "Install `tweepy`, if you don't already have it.  (Be sure to activate your Conda environment for the class first.  Then run `pip install tweepy`.)"
   ]
  },
  {
   "cell_type": "code",
   "execution_count": 3,
   "metadata": {},
   "outputs": [
    {
     "name": "stdout",
     "output_type": "stream",
     "text": [
      "Collecting tweepy\n",
      "  Using cached tweepy-3.5.0-py2.py3-none-any.whl\n",
      "Requirement already satisfied: six>=1.7.3 in /srv/app/venv/lib/python3.6/site-packages (from tweepy)\n",
      "Requirement already satisfied: requests>=2.4.3 in /srv/app/venv/lib/python3.6/site-packages (from tweepy)\n",
      "Collecting requests-oauthlib>=0.4.1 (from tweepy)\n",
      "  Using cached requests_oauthlib-0.8.0-py2.py3-none-any.whl\n",
      "Collecting oauthlib>=0.6.2 (from requests-oauthlib>=0.4.1->tweepy)\n",
      "  Downloading oauthlib-2.0.6.tar.gz (127kB)\n",
      "\u001b[K    100% |████████████████████████████████| 133kB 1.4MB/s ta 0:00:01\n",
      "\u001b[?25hBuilding wheels for collected packages: oauthlib\n",
      "  Running setup.py bdist_wheel for oauthlib ... \u001b[?25ldone\n",
      "\u001b[?25h  Stored in directory: /home/jovyan/.cache/pip/wheels/e5/46/f7/bb2fde81726295a13a71e3c6396d362ab408921c6562d6efc0\n",
      "Successfully built oauthlib\n",
      "Installing collected packages: oauthlib, requests-oauthlib, tweepy\n",
      "Successfully installed oauthlib-2.0.6 requests-oauthlib-0.8.0 tweepy-3.5.0\n"
     ]
    }
   ],
   "source": [
    "## Make sure you are in your ds100 conda environment.\n",
    "## Uncomment the following line to install tweepy\n",
    "!pip install tweepy"
   ]
  },
  {
   "cell_type": "code",
   "execution_count": 4,
   "metadata": {},
   "outputs": [],
   "source": [
    "# The following should run\n",
    "import tweepy"
   ]
  },
  {
   "cell_type": "markdown",
   "metadata": {},
   "source": [
    "There are instructions on using `tweepy` [here](http://tweepy.readthedocs.io/en/v3.5.0/getting_started.html), but we will give you example code.\n",
    "\n",
    "Twitter requires you to have authentication keys to access their API.  To get your keys, you'll have to sign up as a Twitter developer.  The next question will walk you through this process."
   ]
  },
  {
   "cell_type": "markdown",
   "metadata": {},
   "source": [
    "---\n",
    "<br/><br/>\n",
    "\n",
    "## Getting Started\n",
    "\n",
    "Follow the instructions below to get your Twitter API keys.  Read the instructions completely before starting.\n",
    "\n",
    "1. [Create a Twitter account](https://twitter.com).  You can use an existing account if you have one.\n",
    "2. Under account settings, add your phone number to the account.\n",
    "3. [Create a Twitter developer account](https://dev.twitter.com/resources/signup).  Attach it to your Twitter account.\n",
    "4. Once you're logged into your developer account, [create an application for this assignment](https://apps.twitter.com/app/new).  You can call it whatever you want, and you can write any URL when it asks for a web site.\n",
    "5. On the page for that application, find your Consumer Key and Consumer Secret.\n",
    "6. On the same page, create an Access Token.  Record the resulting Access Token and Access Token Secret.\n",
    "7. Edit the file [keys.json](keys.json) and replace the placeholders with your keys.  Don't turn in that file."
   ]
  },
  {
   "cell_type": "markdown",
   "metadata": {},
   "source": [
    "\n",
    "## WARNING (Please Read) !!!!\n",
    "\n",
    "\n",
    "### Protect your Twitter Keys\n",
    "<span style=\"color:red\">\n",
    "If someone has your authentication keys, they can access your Twitter account and post as you!  So don't give them to anyone, and **don't write them down in this notebook**. \n",
    "</span>\n",
    "The usual way to store sensitive information like this is to put it in a separate file and read it programmatically.  That way, you can share the rest of your code without sharing your keys.  That's why we're asking you to put your keys in `keys.json` for this assignment.\n",
    "\n",
    "\n",
    "### Avoid making too many API calls.\n",
    "\n",
    "<span style=\"color:red\">\n",
    "Twitter limits developers to a certain rate of requests for data.  If you make too many requests in a short period of time, you'll have to wait awhile (around 15 minutes) before you can make more.  </span> \n",
    "So carefully follow the code examples you see and don't rerun cells without thinking.  Instead, always save the data you've collected to a file.  We've provided templates to help you do that.\n",
    "\n",
    "\n",
    "### Be careful about which functions you call!\n",
    "\n",
    "<span style=\"color:red\">\n",
    "This API can retweet tweets, follow and unfollow people, and modify your twitter settings.  Be careful which functions you invoke! </span> One of your instructors accidentally re-tweeted some tweets because that instructor typed `retweet` instead of `retweet_count`. \n",
    "</span>\n"
   ]
  },
  {
   "cell_type": "code",
   "execution_count": 5,
   "metadata": {},
   "outputs": [],
   "source": [
    "import json\n",
    "key_file = 'keys.json'\n",
    "# Loading your keys from keys.json (which you should have filled\n",
    "# in in question 1):\n",
    "with open(key_file) as f:\n",
    "    keys = json.load(f)"
   ]
  },
  {
   "cell_type": "markdown",
   "metadata": {},
   "source": [
    "This cell tests the Twitter authentication. It should run without errors or warnings and display your Twitter username."
   ]
  },
  {
   "cell_type": "code",
   "execution_count": 6,
   "metadata": {},
   "outputs": [
    {
     "name": "stdout",
     "output_type": "stream",
     "text": [
      "Your username is: saranshg23\n"
     ]
    }
   ],
   "source": [
    "import tweepy\n",
    "from tweepy import TweepError\n",
    "import logging\n",
    "\n",
    "try:\n",
    "    auth = tweepy.OAuthHandler(keys[\"consumer_key\"], keys[\"consumer_secret\"])\n",
    "    auth.set_access_token(keys[\"access_token\"], keys[\"access_token_secret\"])\n",
    "    api = tweepy.API(auth)\n",
    "    print(\"Your username is:\", api.auth.get_username())\n",
    "except TweepError as e:\n",
    "    logging.warning(\"There was a Tweepy error. Double check your API keys and try again.\")\n",
    "    logging.warning(e)"
   ]
  },
  {
   "cell_type": "markdown",
   "metadata": {},
   "source": [
    "---\n",
    "<br/><br/>\n",
    "\n",
    "\n",
    "## Extracting and Saving the Tweet Data\n",
    "\n",
    "The code below will load in the data, and save it to a local file cache, which will make it faster for us to access later on and prevent us from having to call the data using Twitter API's everytime, which can be slow. "
   ]
  },
  {
   "cell_type": "code",
   "execution_count": 9,
   "metadata": {
    "tags": [
     "student"
    ]
   },
   "outputs": [],
   "source": [
    "def load_keys(path):\n",
    "    \"\"\"Loads your Twitter authentication keys from a file on disk.\n",
    "    \n",
    "    Args:\n",
    "        path (str): The path to your key file.  The file should\n",
    "          be in JSON format and look like this (but filled in):\n",
    "            {\n",
    "                \"consumer_key\": \"<your Consumer Key here>\",\n",
    "                \"consumer_secret\":  \"<your Consumer Secret here>\",\n",
    "                \"access_token\": \"<your Access Token here>\",\n",
    "                \"access_token_secret\": \"<your Access Token Secret here>\"\n",
    "            }\n",
    "    \n",
    "    Returns:\n",
    "        dict: A dictionary mapping key names (like \"consumer_key\") to\n",
    "          key values.\"\"\"\n",
    "    with open (path) as f:\n",
    "        keys = json.load(f)\n",
    "    return keys"
   ]
  },
  {
   "cell_type": "code",
   "execution_count": 10,
   "metadata": {
    "tags": [
     "student"
    ]
   },
   "outputs": [],
   "source": [
    "def download_recent_tweets_by_user(user_account_name, keys):\n",
    "    \"\"\"Downloads tweets by one Twitter user.\n",
    "\n",
    "    Args:\n",
    "        user_account_name (str): The name of the Twitter account\n",
    "          whose tweets will be downloaded.\n",
    "        keys (dict): A Python dictionary with Twitter authentication\n",
    "          keys (strings), like this (but filled in):\n",
    "            {\n",
    "                \"consumer_key\": \"<your Consumer Key here>\",\n",
    "                \"consumer_secret\":  \"<your Consumer Secret here>\",\n",
    "                \"access_token\": \"<your Access Token here>\",\n",
    "                \"access_token_secret\": \"<your Access Token Secret here>\"\n",
    "            }\n",
    "\n",
    "    Returns:\n",
    "        list: A list of Status objects, each representing one tweet.\"\"\"\n",
    "    auth = tweepy.OAuthHandler(keys[\"consumer_key\"], keys[\"consumer_secret\"])\n",
    "    auth.set_access_token(keys[\"access_token\"], keys[\"access_token_secret\"])\n",
    "    api = tweepy.API(auth)\n",
    "    # Getting as many recent tweets by @user_account_name as Twitter will let us have:\n",
    "    tweets = list(tweepy.Cursor(api.user_timeline, id=user_account_name).items())\n",
    "    return tweets"
   ]
  },
  {
   "cell_type": "code",
   "execution_count": 11,
   "metadata": {
    "tags": [
     "student"
    ]
   },
   "outputs": [],
   "source": [
    "def save_tweets(tweets, path):\n",
    "    \"\"\"Saves a list of tweets to a file in the local filesystem.\n",
    "    \n",
    "    This function makes no guarantee about the format of the saved\n",
    "    tweets, **except** that calling load_tweets(path) after\n",
    "    save_tweets(tweets, path) will produce the same list of tweets\n",
    "    and that only the file at the given path is used to store the\n",
    "    tweets.  (That means you can implement this function however\n",
    "    you want, as long as saving and loading works!)\n",
    "\n",
    "    Args:\n",
    "        tweets (list): A list of tweet objects (of type Status) to\n",
    "          be saved.\n",
    "        path (str): The place where the tweets will be saved.\n",
    "\n",
    "    Returns:\n",
    "        None\"\"\"\n",
    "    with open(path, \"wb\") as f:\n",
    "        import pickle\n",
    "        pickle.dump(tweets, f)"
   ]
  },
  {
   "cell_type": "code",
   "execution_count": 12,
   "metadata": {
    "tags": [
     "student"
    ]
   },
   "outputs": [],
   "source": [
    "def load_tweets(path):\n",
    "    \"\"\"Loads tweets that have previously been saved.\n",
    "    \n",
    "    Calling load_tweets(path) after save_tweets(tweets, path)\n",
    "    will produce the same list of tweets.\n",
    "    \n",
    "    Args:\n",
    "        path (str): The place where the tweets were be saved.\n",
    "\n",
    "    Returns:\n",
    "        list: A list of Status objects, each representing one tweet.\"\"\"\n",
    "    with open(path, \"rb\") as f:\n",
    "        import pickle\n",
    "        tweets = pickle.load(f)\n",
    "    return tweets"
   ]
  },
  {
   "cell_type": "code",
   "execution_count": 13,
   "metadata": {
    "tags": [
     "student"
    ]
   },
   "outputs": [],
   "source": [
    "def get_tweets_with_cache(user_account_name, keys_path):\n",
    "    \"\"\"Get recent tweets from one user, loading from a disk cache if available.\n",
    "    \n",
    "    The first time you call this function, it will download tweets by\n",
    "    a user.  Subsequent calls will not re-download the tweets; instead\n",
    "    they'll load the tweets from a save file in your local filesystem.\n",
    "    All this is done using the functions you defined in the previous cell.\n",
    "    This has benefits and drawbacks that often appear when you cache data:\n",
    "    \n",
    "    +: Using this function will prevent extraneous usage of the Twitter API.\n",
    "    +: You will get your data much faster after the first time it's called.\n",
    "    -: If you really want to re-download the tweets (say, to get newer ones,\n",
    "       or because you screwed up something in the previous cell and your\n",
    "       tweets aren't what you wanted), you'll have to find the save file\n",
    "       (which will look like <something>_recent_tweets.pkl) and delete it.\n",
    "    \n",
    "    Args:\n",
    "        user_account_name (str): The Twitter handle of a user, without the @.\n",
    "        keys_path (str): The path to a JSON keys file in your filesystem.\n",
    "    \"\"\"\n",
    "    keys = load_keys(keys_path)\n",
    "    if Path(user_account_name + \"_recent_tweets.pkl\").exists():\n",
    "        return load_tweets(user_account_name + \"_recent_tweets.pkl\")\n",
    "    else:\n",
    "        tweets = download_recent_tweets_by_user(user_account_name, keys)\n",
    "        save_tweets(tweets, user_account_name + \"_recent_tweets.pkl\")\n",
    "        return tweets \n",
    "\n",
    "    \n",
    "    "
   ]
  },
  {
   "cell_type": "markdown",
   "metadata": {},
   "source": [
    "If everything was implemented correctly you should be able to obtain roughly the last 3000 tweets by the `realdonaldtrump`."
   ]
  },
  {
   "cell_type": "code",
   "execution_count": 14,
   "metadata": {},
   "outputs": [
    {
     "name": "stdout",
     "output_type": "stream",
     "text": [
      "Number of tweets downloaded: 3242\n"
     ]
    }
   ],
   "source": [
    "# When you are done, run this cell to load @realdonaldtrump's tweets.\n",
    "# Note the function get_tweets_with_cache.  You may find it useful\n",
    "# later.\n",
    "trump_tweets = get_tweets_with_cache(\"realdonaldtrump\", key_file)\n",
    "print(\"Number of tweets downloaded:\", len(trump_tweets))"
   ]
  },
  {
   "cell_type": "markdown",
   "metadata": {},
   "source": [
    "---\n",
    "<br/><br/>\n",
    "\n",
    "## Exploring the Data with Pandas DataFrames\n",
    "\n",
    "I will now extract important fields from the tweet objects and convert them into a Pandas dataframe for further analysis."
   ]
  },
  {
   "cell_type": "markdown",
   "metadata": {},
   "source": [
    "Each trump tweet is stored in a `tweepy.models.Status` object:"
   ]
  },
  {
   "cell_type": "code",
   "execution_count": 15,
   "metadata": {},
   "outputs": [
    {
     "data": {
      "text/plain": [
       "tweepy.models.Status"
      ]
     },
     "execution_count": 15,
     "metadata": {},
     "output_type": "execute_result"
    }
   ],
   "source": [
    "type(trump_tweets[0])"
   ]
  },
  {
   "cell_type": "markdown",
   "metadata": {},
   "source": [
    "We can list all the members of this object by looking at the private `__dict__` variable:"
   ]
  },
  {
   "cell_type": "code",
   "execution_count": 16,
   "metadata": {
    "scrolled": true
   },
   "outputs": [
    {
     "data": {
      "text/plain": [
       "['_json',\n",
       " 'created_at',\n",
       " 'id',\n",
       " 'id_str',\n",
       " 'text',\n",
       " 'truncated',\n",
       " 'entities',\n",
       " 'source',\n",
       " 'source_url',\n",
       " 'in_reply_to_status_id',\n",
       " 'in_reply_to_status_id_str',\n",
       " 'in_reply_to_user_id',\n",
       " 'in_reply_to_user_id_str',\n",
       " 'in_reply_to_screen_name',\n",
       " 'author',\n",
       " 'user',\n",
       " 'geo',\n",
       " 'coordinates',\n",
       " 'place',\n",
       " 'contributors',\n",
       " 'retweeted_status',\n",
       " 'is_quote_status',\n",
       " 'retweet_count',\n",
       " 'favorite_count',\n",
       " 'favorited',\n",
       " 'retweeted',\n",
       " 'lang']"
      ]
     },
     "execution_count": 16,
     "metadata": {},
     "output_type": "execute_result"
    }
   ],
   "source": [
    "list(trump_tweets[0].__dict__.keys())"
   ]
  },
  {
   "cell_type": "markdown",
   "metadata": {},
   "source": [
    "Therefore we can extract a field simply by reading its value:"
   ]
  },
  {
   "cell_type": "code",
   "execution_count": 17,
   "metadata": {},
   "outputs": [
    {
     "data": {
      "text/plain": [
       "'RT @ricardorossello: Briefed @POTUS @realDonaldTrump in #SituationRoom and thanked him for his leadership, quick response &amp; commitment to o…'"
      ]
     },
     "execution_count": 17,
     "metadata": {},
     "output_type": "execute_result"
    }
   ],
   "source": [
    "trump_tweets[0].text"
   ]
  },
  {
   "cell_type": "markdown",
   "metadata": {},
   "source": [
    "### Constructing the DataFrame\n",
    "\n",
    "I will now construct a DataFrame called `trump`. The index of the dataframe should be the ID of each tweet (looks something like `907698529606541312`). It should have these columns:\n",
    "\n",
    "- `time`: The time the tweet was created.\n",
    "- `source`: The source device of the tweet.\n",
    "- `text`: The text of the tweet.\n",
    "- `retweet_count`: The retweet count of the tweet. "
   ]
  },
  {
   "cell_type": "code",
   "execution_count": 18,
   "metadata": {},
   "outputs": [],
   "source": [
    "trumps=trump_tweets"
   ]
  },
  {
   "cell_type": "code",
   "execution_count": 19,
   "metadata": {
    "scrolled": true,
    "tags": [
     "student"
    ]
   },
   "outputs": [
    {
     "data": {
      "text/html": [
       "<div>\n",
       "<table border=\"1\" class=\"dataframe\">\n",
       "  <thead>\n",
       "    <tr style=\"text-align: right;\">\n",
       "      <th></th>\n",
       "      <th>retweet_count</th>\n",
       "      <th>source</th>\n",
       "      <th>text</th>\n",
       "      <th>time</th>\n",
       "    </tr>\n",
       "  </thead>\n",
       "  <tbody>\n",
       "    <tr>\n",
       "      <th>912771708544802823</th>\n",
       "      <td>829</td>\n",
       "      <td>Twitter for iPhone</td>\n",
       "      <td>RT @ricardorossello: Briefed @POTUS @realDonal...</td>\n",
       "      <td>2017-09-26 20:11:48</td>\n",
       "    </tr>\n",
       "    <tr>\n",
       "      <th>912711807709667331</th>\n",
       "      <td>3956</td>\n",
       "      <td>Twitter for iPhone</td>\n",
       "      <td>Honored to welcome Republican and Democrat mem...</td>\n",
       "      <td>2017-09-26 16:13:46</td>\n",
       "    </tr>\n",
       "    <tr>\n",
       "      <th>912670906828443648</th>\n",
       "      <td>4083</td>\n",
       "      <td>Twitter for iPhone</td>\n",
       "      <td>ALABAMA, get out and vote for Luther Strange -...</td>\n",
       "      <td>2017-09-26 13:31:15</td>\n",
       "    </tr>\n",
       "    <tr>\n",
       "      <th>912664574461120512</th>\n",
       "      <td>13407</td>\n",
       "      <td>Twitter for iPhone</td>\n",
       "      <td>The NFL has all sorts of rules and regulations...</td>\n",
       "      <td>2017-09-26 13:06:05</td>\n",
       "    </tr>\n",
       "    <tr>\n",
       "      <th>912651215997202432</th>\n",
       "      <td>9860</td>\n",
       "      <td>Twitter for iPhone</td>\n",
       "      <td>Thank you to Carmen Yulin Cruz, the Mayor of S...</td>\n",
       "      <td>2017-09-26 12:13:00</td>\n",
       "    </tr>\n",
       "    <tr>\n",
       "      <th>912636538156146688</th>\n",
       "      <td>8789</td>\n",
       "      <td>Twitter for iPhone</td>\n",
       "      <td>Great interview on @foxandfriends with the par...</td>\n",
       "      <td>2017-09-26 11:14:41</td>\n",
       "    </tr>\n",
       "    <tr>\n",
       "      <th>912631781098221568</th>\n",
       "      <td>4314</td>\n",
       "      <td>Twitter for iPhone</td>\n",
       "      <td>Luther Strange has been shooting up in the Ala...</td>\n",
       "      <td>2017-09-26 10:55:47</td>\n",
       "    </tr>\n",
       "    <tr>\n",
       "      <th>912629775629418501</th>\n",
       "      <td>11730</td>\n",
       "      <td>Twitter for iPhone</td>\n",
       "      <td>But while Dallas dropped to its knees as a tea...</td>\n",
       "      <td>2017-09-26 10:47:49</td>\n",
       "    </tr>\n",
       "    <tr>\n",
       "      <th>912626731357540353</th>\n",
       "      <td>16992</td>\n",
       "      <td>Twitter for iPhone</td>\n",
       "      <td>The booing at the NFL football game last night...</td>\n",
       "      <td>2017-09-26 10:35:43</td>\n",
       "    </tr>\n",
       "    <tr>\n",
       "      <th>912624892239077376</th>\n",
       "      <td>13958</td>\n",
       "      <td>Twitter for iPhone</td>\n",
       "      <td>Ratings for NFL football are way down except b...</td>\n",
       "      <td>2017-09-26 10:28:24</td>\n",
       "    </tr>\n",
       "    <tr>\n",
       "      <th>912494675206053888</th>\n",
       "      <td>7179</td>\n",
       "      <td>Twitter for iPhone</td>\n",
       "      <td>Big election tomorrow in the Great State of Al...</td>\n",
       "      <td>2017-09-26 01:50:58</td>\n",
       "    </tr>\n",
       "    <tr>\n",
       "      <th>912487929783754755</th>\n",
       "      <td>24067</td>\n",
       "      <td>Media Studio</td>\n",
       "      <td>A few of the many clips of John McCain talking...</td>\n",
       "      <td>2017-09-26 01:24:10</td>\n",
       "    </tr>\n",
       "    <tr>\n",
       "      <th>912481556127780865</th>\n",
       "      <td>7569</td>\n",
       "      <td>Twitter for iPhone</td>\n",
       "      <td>...owed to Wall Street and the banks which, sa...</td>\n",
       "      <td>2017-09-26 00:58:50</td>\n",
       "    </tr>\n",
       "    <tr>\n",
       "      <th>912479500511965184</th>\n",
       "      <td>8298</td>\n",
       "      <td>Twitter for iPhone</td>\n",
       "      <td>...It's old electrical grid, which was in terr...</td>\n",
       "      <td>2017-09-26 00:50:40</td>\n",
       "    </tr>\n",
       "    <tr>\n",
       "      <th>912478274508423168</th>\n",
       "      <td>12185</td>\n",
       "      <td>Twitter for iPhone</td>\n",
       "      <td>Texas &amp;amp; Florida are doing great but Puerto...</td>\n",
       "      <td>2017-09-26 00:45:48</td>\n",
       "    </tr>\n",
       "    <tr>\n",
       "      <th>912443924979077120</th>\n",
       "      <td>24756</td>\n",
       "      <td>Twitter for iPhone</td>\n",
       "      <td>Tremendous backlash against the NFL and its pl...</td>\n",
       "      <td>2017-09-25 22:29:18</td>\n",
       "    </tr>\n",
       "    <tr>\n",
       "      <th>912443607084404736</th>\n",
       "      <td>20683</td>\n",
       "      <td>Twitter for iPhone</td>\n",
       "      <td>General John Kelly totally agrees w/ my stance...</td>\n",
       "      <td>2017-09-25 22:28:02</td>\n",
       "    </tr>\n",
       "    <tr>\n",
       "      <th>912443217227976704</th>\n",
       "      <td>16153</td>\n",
       "      <td>Twitter for iPhone</td>\n",
       "      <td>.@CNN is #FakeNews. Just reported COS (John Ke...</td>\n",
       "      <td>2017-09-25 22:26:30</td>\n",
       "    </tr>\n",
       "    <tr>\n",
       "      <th>912302339360542720</th>\n",
       "      <td>20660</td>\n",
       "      <td>Twitter for iPhone</td>\n",
       "      <td>RT @jayMAGA45: NFLplayer PatTillman joined U.S...</td>\n",
       "      <td>2017-09-25 13:06:42</td>\n",
       "    </tr>\n",
       "    <tr>\n",
       "      <th>912301271817838593</th>\n",
       "      <td>70411</td>\n",
       "      <td>Twitter for iPhone</td>\n",
       "      <td>#StandForOurAnthem</td>\n",
       "      <td>2017-09-25 13:02:27</td>\n",
       "    </tr>\n",
       "  </tbody>\n",
       "</table>\n",
       "</div>"
      ],
      "text/plain": [
       "                    retweet_count              source  \\\n",
       "912771708544802823            829  Twitter for iPhone   \n",
       "912711807709667331           3956  Twitter for iPhone   \n",
       "912670906828443648           4083  Twitter for iPhone   \n",
       "912664574461120512          13407  Twitter for iPhone   \n",
       "912651215997202432           9860  Twitter for iPhone   \n",
       "912636538156146688           8789  Twitter for iPhone   \n",
       "912631781098221568           4314  Twitter for iPhone   \n",
       "912629775629418501          11730  Twitter for iPhone   \n",
       "912626731357540353          16992  Twitter for iPhone   \n",
       "912624892239077376          13958  Twitter for iPhone   \n",
       "912494675206053888           7179  Twitter for iPhone   \n",
       "912487929783754755          24067        Media Studio   \n",
       "912481556127780865           7569  Twitter for iPhone   \n",
       "912479500511965184           8298  Twitter for iPhone   \n",
       "912478274508423168          12185  Twitter for iPhone   \n",
       "912443924979077120          24756  Twitter for iPhone   \n",
       "912443607084404736          20683  Twitter for iPhone   \n",
       "912443217227976704          16153  Twitter for iPhone   \n",
       "912302339360542720          20660  Twitter for iPhone   \n",
       "912301271817838593          70411  Twitter for iPhone   \n",
       "\n",
       "                                                                 text  \\\n",
       "912771708544802823  RT @ricardorossello: Briefed @POTUS @realDonal...   \n",
       "912711807709667331  Honored to welcome Republican and Democrat mem...   \n",
       "912670906828443648  ALABAMA, get out and vote for Luther Strange -...   \n",
       "912664574461120512  The NFL has all sorts of rules and regulations...   \n",
       "912651215997202432  Thank you to Carmen Yulin Cruz, the Mayor of S...   \n",
       "912636538156146688  Great interview on @foxandfriends with the par...   \n",
       "912631781098221568  Luther Strange has been shooting up in the Ala...   \n",
       "912629775629418501  But while Dallas dropped to its knees as a tea...   \n",
       "912626731357540353  The booing at the NFL football game last night...   \n",
       "912624892239077376  Ratings for NFL football are way down except b...   \n",
       "912494675206053888  Big election tomorrow in the Great State of Al...   \n",
       "912487929783754755  A few of the many clips of John McCain talking...   \n",
       "912481556127780865  ...owed to Wall Street and the banks which, sa...   \n",
       "912479500511965184  ...It's old electrical grid, which was in terr...   \n",
       "912478274508423168  Texas &amp; Florida are doing great but Puerto...   \n",
       "912443924979077120  Tremendous backlash against the NFL and its pl...   \n",
       "912443607084404736  General John Kelly totally agrees w/ my stance...   \n",
       "912443217227976704  .@CNN is #FakeNews. Just reported COS (John Ke...   \n",
       "912302339360542720  RT @jayMAGA45: NFLplayer PatTillman joined U.S...   \n",
       "912301271817838593                                 #StandForOurAnthem   \n",
       "\n",
       "                                  time  \n",
       "912771708544802823 2017-09-26 20:11:48  \n",
       "912711807709667331 2017-09-26 16:13:46  \n",
       "912670906828443648 2017-09-26 13:31:15  \n",
       "912664574461120512 2017-09-26 13:06:05  \n",
       "912651215997202432 2017-09-26 12:13:00  \n",
       "912636538156146688 2017-09-26 11:14:41  \n",
       "912631781098221568 2017-09-26 10:55:47  \n",
       "912629775629418501 2017-09-26 10:47:49  \n",
       "912626731357540353 2017-09-26 10:35:43  \n",
       "912624892239077376 2017-09-26 10:28:24  \n",
       "912494675206053888 2017-09-26 01:50:58  \n",
       "912487929783754755 2017-09-26 01:24:10  \n",
       "912481556127780865 2017-09-26 00:58:50  \n",
       "912479500511965184 2017-09-26 00:50:40  \n",
       "912478274508423168 2017-09-26 00:45:48  \n",
       "912443924979077120 2017-09-25 22:29:18  \n",
       "912443607084404736 2017-09-25 22:28:02  \n",
       "912443217227976704 2017-09-25 22:26:30  \n",
       "912302339360542720 2017-09-25 13:06:42  \n",
       "912301271817838593 2017-09-25 13:02:27  "
      ]
     },
     "execution_count": 19,
     "metadata": {},
     "output_type": "execute_result"
    }
   ],
   "source": [
    "trump = pd.DataFrame({'retweet_count': [t.retweet_count for t in trumps], 'text': [t.text for t in trumps], \n",
    "                      'source': [t.source for t in trumps], 'time': [t.created_at for t in trumps]})\n",
    "trump.index = [t.id_str for t in trumps]\n",
    "trump.head(20)"
   ]
  },
  {
   "cell_type": "markdown",
   "metadata": {},
   "source": [
    "Here are two important dates that we'll use in our analysis. `ELEC_DATE` is the date when Trump won the 2016 Presidential election, and `INAUG_DATE` is the date that Trump was sworn into office."
   ]
  },
  {
   "cell_type": "code",
   "execution_count": 21,
   "metadata": {},
   "outputs": [],
   "source": [
    "from datetime import datetime\n",
    "\n",
    "ELEC_DATE = datetime(2016, 11, 8)\n",
    "INAUG_DATE = datetime(2017, 1, 20)"
   ]
  },
  {
   "cell_type": "markdown",
   "metadata": {},
   "source": [
    "Here are the first and last rows of your tweet data.\n",
    "\n",
    "You'll notice that the data contains tweets from before the election."
   ]
  },
  {
   "cell_type": "code",
   "execution_count": 22,
   "metadata": {},
   "outputs": [
    {
     "data": {
      "text/html": [
       "<div>\n",
       "<table border=\"1\" class=\"dataframe\">\n",
       "  <thead>\n",
       "    <tr style=\"text-align: right;\">\n",
       "      <th></th>\n",
       "      <th>retweet_count</th>\n",
       "      <th>source</th>\n",
       "      <th>text</th>\n",
       "      <th>time</th>\n",
       "    </tr>\n",
       "  </thead>\n",
       "  <tbody>\n",
       "    <tr>\n",
       "      <th>912771708544802823</th>\n",
       "      <td>829</td>\n",
       "      <td>Twitter for iPhone</td>\n",
       "      <td>RT @ricardorossello: Briefed @POTUS @realDonal...</td>\n",
       "      <td>2017-09-26 20:11:48</td>\n",
       "    </tr>\n",
       "    <tr>\n",
       "      <th>758731880183193601</th>\n",
       "      <td>6239</td>\n",
       "      <td>Twitter for Android</td>\n",
       "      <td>\"@LallyRay: Poll: Donald Trump Sees 17-Point P...</td>\n",
       "      <td>2016-07-28 18:32:31</td>\n",
       "    </tr>\n",
       "  </tbody>\n",
       "</table>\n",
       "</div>"
      ],
      "text/plain": [
       "                    retweet_count               source  \\\n",
       "912771708544802823            829   Twitter for iPhone   \n",
       "758731880183193601           6239  Twitter for Android   \n",
       "\n",
       "                                                                 text  \\\n",
       "912771708544802823  RT @ricardorossello: Briefed @POTUS @realDonal...   \n",
       "758731880183193601  \"@LallyRay: Poll: Donald Trump Sees 17-Point P...   \n",
       "\n",
       "                                  time  \n",
       "912771708544802823 2017-09-26 20:11:48  \n",
       "758731880183193601 2016-07-28 18:32:31  "
      ]
     },
     "execution_count": 22,
     "metadata": {},
     "output_type": "execute_result"
    }
   ],
   "source": [
    "trump.iloc[[0, -1], :]"
   ]
  },
  {
   "cell_type": "markdown",
   "metadata": {},
   "source": [
    "## Tweet Source Analysis\n",
    "\n",
    "I am now going to find out the charateristics of Trump tweets and the devices used for the tweets.\n",
    "\n",
    "---\n",
    "<br/><br/>\n",
    "\n",
    "## Unique Sources \n",
    "\n",
    "This code will find out the number of unique sources of the Trump tweets and save the result in `num_sources`. \n",
    "\n",
    "Then, I'll make a bar plot of the counts of different sources to visualize the data."
   ]
  },
  {
   "cell_type": "code",
   "execution_count": 23,
   "metadata": {},
   "outputs": [],
   "source": [
    "source = trump['source']"
   ]
  },
  {
   "cell_type": "code",
   "execution_count": 24,
   "metadata": {
    "tags": [
     "student"
    ]
   },
   "outputs": [
    {
     "data": {
      "text/plain": [
       "<matplotlib.axes._subplots.AxesSubplot at 0x7f581eb27470>"
      ]
     },
     "execution_count": 24,
     "metadata": {},
     "output_type": "execute_result"
    },
    {
     "data": {
      "image/png": "[encoded data removed]",
      "text/plain": [
       "<matplotlib.figure.Figure at 0x7f581eb810b8>"
      ]
     },
     "metadata": {},
     "output_type": "display_data"
    }
   ],
   "source": [
    "num_sources = source.nunique()\n",
    "num_each = pd.value_counts(source)\n",
    "# make a bar plot here\n",
    "num_each.plot.bar()\n"
   ]
  },
  {
   "cell_type": "markdown",
   "metadata": {},
   "source": [
    "As we can see from the plot above, Trump tweets are mostly from iPhone or Android. Is there a difference between his Tweet behavior between the two devices?\n",
    "\n",
    "We will attempt to answer this question in our subsequent analysis.\n",
    "\n",
    "First, we'll take a look at whether Trump's tweets from an Android come at different times than his tweets from an iPhone. Note that Twitter gives us his tweets in the [UTC timezone](https://www.wikiwand.com/en/List_of_UTC_time_offsets):"
   ]
  },
  {
   "cell_type": "code",
   "execution_count": 26,
   "metadata": {},
   "outputs": [
    {
     "name": "stdout",
     "output_type": "stream",
     "text": [
      "Tue Sep 26 20:11:48 +0000 2017\n"
     ]
    }
   ],
   "source": [
    "print(trump_tweets[0]._json['created_at'])"
   ]
  },
  {
   "cell_type": "markdown",
   "metadata": {},
   "source": [
    "We'll convert the tweet times to US Eastern Time, the timezone of New York and Washington D.C., since those are the places we would expect the most tweet activity from Trump."
   ]
  },
  {
   "cell_type": "code",
   "execution_count": 27,
   "metadata": {},
   "outputs": [
    {
     "data": {
      "text/html": [
       "<div>\n",
       "<table border=\"1\" class=\"dataframe\">\n",
       "  <thead>\n",
       "    <tr style=\"text-align: right;\">\n",
       "      <th></th>\n",
       "      <th>retweet_count</th>\n",
       "      <th>source</th>\n",
       "      <th>text</th>\n",
       "      <th>time</th>\n",
       "      <th>est_time</th>\n",
       "    </tr>\n",
       "  </thead>\n",
       "  <tbody>\n",
       "    <tr>\n",
       "      <th>912771708544802823</th>\n",
       "      <td>829</td>\n",
       "      <td>Twitter for iPhone</td>\n",
       "      <td>RT @ricardorossello: Briefed @POTUS @realDonal...</td>\n",
       "      <td>2017-09-26 20:11:48</td>\n",
       "      <td>2017-09-26 16:11:48-04:00</td>\n",
       "    </tr>\n",
       "    <tr>\n",
       "      <th>912711807709667331</th>\n",
       "      <td>3956</td>\n",
       "      <td>Twitter for iPhone</td>\n",
       "      <td>Honored to welcome Republican and Democrat mem...</td>\n",
       "      <td>2017-09-26 16:13:46</td>\n",
       "      <td>2017-09-26 12:13:46-04:00</td>\n",
       "    </tr>\n",
       "    <tr>\n",
       "      <th>912670906828443648</th>\n",
       "      <td>4083</td>\n",
       "      <td>Twitter for iPhone</td>\n",
       "      <td>ALABAMA, get out and vote for Luther Strange -...</td>\n",
       "      <td>2017-09-26 13:31:15</td>\n",
       "      <td>2017-09-26 09:31:15-04:00</td>\n",
       "    </tr>\n",
       "    <tr>\n",
       "      <th>912664574461120512</th>\n",
       "      <td>13407</td>\n",
       "      <td>Twitter for iPhone</td>\n",
       "      <td>The NFL has all sorts of rules and regulations...</td>\n",
       "      <td>2017-09-26 13:06:05</td>\n",
       "      <td>2017-09-26 09:06:05-04:00</td>\n",
       "    </tr>\n",
       "    <tr>\n",
       "      <th>912651215997202432</th>\n",
       "      <td>9860</td>\n",
       "      <td>Twitter for iPhone</td>\n",
       "      <td>Thank you to Carmen Yulin Cruz, the Mayor of S...</td>\n",
       "      <td>2017-09-26 12:13:00</td>\n",
       "      <td>2017-09-26 08:13:00-04:00</td>\n",
       "    </tr>\n",
       "  </tbody>\n",
       "</table>\n",
       "</div>"
      ],
      "text/plain": [
       "                    retweet_count              source  \\\n",
       "912771708544802823            829  Twitter for iPhone   \n",
       "912711807709667331           3956  Twitter for iPhone   \n",
       "912670906828443648           4083  Twitter for iPhone   \n",
       "912664574461120512          13407  Twitter for iPhone   \n",
       "912651215997202432           9860  Twitter for iPhone   \n",
       "\n",
       "                                                                 text  \\\n",
       "912771708544802823  RT @ricardorossello: Briefed @POTUS @realDonal...   \n",
       "912711807709667331  Honored to welcome Republican and Democrat mem...   \n",
       "912670906828443648  ALABAMA, get out and vote for Luther Strange -...   \n",
       "912664574461120512  The NFL has all sorts of rules and regulations...   \n",
       "912651215997202432  Thank you to Carmen Yulin Cruz, the Mayor of S...   \n",
       "\n",
       "                                  time                  est_time  \n",
       "912771708544802823 2017-09-26 20:11:48 2017-09-26 16:11:48-04:00  \n",
       "912711807709667331 2017-09-26 16:13:46 2017-09-26 12:13:46-04:00  \n",
       "912670906828443648 2017-09-26 13:31:15 2017-09-26 09:31:15-04:00  \n",
       "912664574461120512 2017-09-26 13:06:05 2017-09-26 09:06:05-04:00  \n",
       "912651215997202432 2017-09-26 12:13:00 2017-09-26 08:13:00-04:00  "
      ]
     },
     "execution_count": 27,
     "metadata": {},
     "output_type": "execute_result"
    }
   ],
   "source": [
    "trump['est_time'] = pd.Index(trump['time']).tz_localize(\"UTC\").tz_convert(\"US/Eastern\")\n",
    "trump.head()"
   ]
  },
  {
   "cell_type": "markdown",
   "metadata": {},
   "source": [
    "---\n",
    "<br/><br/>\n",
    "\n",
    "## Plotting Tweet Timinfs By Device\n",
    "\n",
    "I will use this data to make a line plot with two curves:\n",
    "\n",
    "1. The number of iPhone tweets vs. hour of the day, normalized over the hours of the day. For example, if there were 10 tweets at 1pm and 20 tweets at 2pm, the line plot should be 0, then 0.33 at 1pm, 0.66 at 2pm, then back to 0.\n",
    "2. The same curve for Android tweets.\n"
   ]
  },
  {
   "cell_type": "code",
   "execution_count": 28,
   "metadata": {
    "tags": [
     "student",
     "written"
    ]
   },
   "outputs": [
    {
     "data": {
      "text/plain": [
       "<matplotlib.text.Text at 0x7f581e3cdac8>"
      ]
     },
     "execution_count": 28,
     "metadata": {},
     "output_type": "execute_result"
    },
    {
     "data": {
      "image/png": "[encoded data removed]",
      "text/plain": [
       "<matplotlib.figure.Figure at 0x7f581e4fd080>"
      ]
     },
     "metadata": {},
     "output_type": "display_data"
    }
   ],
   "source": [
    "a = trump[trump['source'] == 'Twitter for iPhone']\n",
    "b = trump[trump['source'] == 'Twitter for Android']\n",
    "iPhone = a.groupby(trump['est_time'].dt.hour).size()/2165\n",
    "Android = b.groupby(trump['est_time'].dt.hour).size()/771\n",
    "iPhone.plot(label = \"iPhone\")\n",
    "Android.plot(label = \"Android\")\n",
    "plt.legend()\n",
    "plt.xlabel(\"hour\")\n",
    "plt.ylabel(\"fraction\")"
   ]
  },
  {
   "cell_type": "markdown",
   "metadata": {},
   "source": [
    "--- \n",
    "<br></br>\n",
    "\n",
    "## Analyzing the Results\n",
    "Trump seems to tweet the most between hours 5 and 10 in the morning. Trump seems to tweet through the iPhone at around the same general proportion during normal hours throughout the day.\n",
    "However, a large proportion of his Android tweets happen in the early hours, which means maybe he uses his Android more when he is travelling to certain places."
   ]
  },
  {
   "cell_type": "markdown",
   "metadata": {},
   "source": [
    "--- \n",
    "<br></br>\n",
    "\n",
    "Let's now look at his tweet device usage over the entire time period we have in the dataset.\n",
    "\n",
    "Take a look at the code below and the plot it generates.\n",
    "\n",
    "You should be answer the following questions about this code. You don't have to write the answers down anywhere, but you'll need to make variations of this plot in later questions so understanding this code will help you greatly.\n",
    "\n",
    "1. What does `set_index` do here?\n",
    "1. What does `resample` do? What does the `'D'` argument do in `resample`?\n",
    "1. What does `unstack` do? What does the `level=0` argument do in unstack?\n",
    "1. Why does one call to `plot()` generate 7 lines?\n",
    "\n",
    "Feel free to copy this cell, play around with the code to see the intermediate result, then delete your cell after you're done."
   ]
  },
  {
   "cell_type": "code",
   "execution_count": 30,
   "metadata": {},
   "outputs": [],
   "source": [
    "#1. set_index gives a basis for the x-axis. \n",
    "#2. resample means that we resample into bins, and the D means the bins are by the day. \n",
    "#3. unstack \n",
    "#4. plot calls 7 lines b/c it groups by source, and there are 7 different sources, so 1 line for each different source. "
   ]
  },
  {
   "cell_type": "code",
   "execution_count": 31,
   "metadata": {},
   "outputs": [
    {
     "data": {
      "text/plain": [
       "<matplotlib.text.Text at 0x7f581db4df28>"
      ]
     },
     "execution_count": 31,
     "metadata": {},
     "output_type": "execute_result"
    },
    {
     "data": {
      "image/png": "[encoded data removed]",
      "text/plain": [
       "<matplotlib.figure.Figure at 0x7f581dcfd828>"
      ]
     },
     "metadata": {},
     "output_type": "display_data"
    }
   ],
   "source": [
    "(trump.loc[:, ['est_time', 'source']]\n",
    " .set_index('est_time')\n",
    " .groupby('source')\n",
    " .resample('D')\n",
    " .size()\n",
    " .unstack(level=0)\n",
    " .plot()\n",
    ")\n",
    "plt.xlabel('time')\n",
    "plt.ylabel('count')"
   ]
  },
  {
   "cell_type": "markdown",
   "metadata": {},
   "source": [
    "## Cleaning the Plot\n",
    "\n",
    "One problem with the plot above is that it plots too many points to see overall trends in the device usage.\n",
    "\n",
    "Thus, I will recreate the plot above, grouping by each month instead of each day. "
   ]
  },
  {
   "cell_type": "code",
   "execution_count": 32,
   "metadata": {
    "tags": [
     "student",
     "written"
    ]
   },
   "outputs": [
    {
     "data": {
      "text/plain": [
       "<matplotlib.figure.Figure at 0x7f581d74f8d0>"
      ]
     },
     "execution_count": 32,
     "metadata": {},
     "output_type": "execute_result"
    },
    {
     "data": {
      "image/png": "[encoded data removed]",
      "text/plain": [
       "<matplotlib.figure.Figure at 0x7f581d754710>"
      ]
     },
     "metadata": {},
     "output_type": "display_data"
    },
    {
     "data": {
      "text/plain": [
       "<matplotlib.figure.Figure at 0x7f581d74f8d0>"
      ]
     },
     "metadata": {},
     "output_type": "display_data"
    }
   ],
   "source": [
    "(trump.loc[:, ['est_time', 'source']]\n",
    " .set_index('est_time')\n",
    " .groupby('source')\n",
    " .resample('M')\n",
    " .size()\n",
    " .unstack(level=0)\n",
    " .plot()\n",
    ")\n",
    "plt.xlabel('time')\n",
    "plt.ylabel('count')\n",
    "plt.figure(figsize=(50,30))"
   ]
  },
  {
   "cell_type": "markdown",
   "metadata": {},
   "source": [
    "According to the plot, Trump's tweets come from many different sources. It turns out that many of his tweets were not from Trump himself but from his staff. [Take a look at this Verge article.](https://www.theverge.com/2017/3/29/15103504/donald-trump-iphone-using-switched-android)\n",
    "\n",
    "Does the data support the information in the article? What else do you find out about changes in Trump's tweets sources from the plot?\n",
    "\n",
    "Yes, Trump tweets from many different sources, but it seems to be concentrated to a few main ones. The info in the article is also supported by this data because Trump has indeed essentially stopped posting from his Android since March according to the plot. However, this might mean that many of his tweets from iPhone before March were not actually from him but from his staff members, as Trump mainly used his Android to post his own tweets before. Likewise, his usage of using his iPhone has gone up significantly after stopping use of the Android, which makes sense because he has one less medium since he stopped using the Android. It also seems every medium other than the iPhone and Media Studio has decreased, while those 2 has increased according to the plot."
   ]
  },
  {
   "cell_type": "markdown",
   "metadata": {},
   "source": [
    "What are some ways we can distinguish between tweets that came from Trump and tweets from his staff? Before, it was as easy as checked which device the tweet came from. Now, we have to rely on more sophisticated methods."
   ]
  },
  {
   "cell_type": "markdown",
   "metadata": {},
   "source": [
    "---\n",
    "<br></br>\n",
    "\n",
    "## Sentiment Analysis\n",
    "\n",
    "It turns out that we can use the words in Trump's tweets to calculate a measure of the sentiment of the tweet. For example, the sentence \"I love America!\" has positive sentiment, whereas the sentence \"I hate taxes!\" has a negative sentiment. In addition, some words have stronger positive / negative sentiment than others: \"I love America.\" is more positive than \"I like America.\"\n",
    "\n",
    "We will use the [VADER (Valence Aware Dictionary and sEntiment Reasoner)](https://github.com/cjhutto/vaderSentiment) lexicon to analyze the sentiment of Trump's tweets. VADER is a lexicon and rule-based sentiment analysis tool that is specifically attuned to sentiments expressed in social media which is great for our usage.\n",
    "\n",
    "The VADER lexicon gives the sentiment of individual words. Run the following cell to show the first few rows of the lexicon:"
   ]
  },
  {
   "cell_type": "code",
   "execution_count": 35,
   "metadata": {},
   "outputs": [
    {
     "name": "stdout",
     "output_type": "stream",
     "text": [
      "$:\t-1.5\t0.80623\t[-1, -1, -1, -1, -3, -1, -3, -1, -2, -1]\r\n",
      "%)\t-0.4\t1.0198\t[-1, 0, -1, 0, 0, -2, -1, 2, -1, 0]\r\n",
      "%-)\t-1.5\t1.43178\t[-2, 0, -2, -2, -1, 2, -2, -3, -2, -3]\r\n",
      "&-:\t-0.4\t1.42829\t[-3, -1, 0, 0, -1, -1, -1, 2, -1, 2]\r\n",
      "&:\t-0.7\t0.64031\t[0, -1, -1, -1, 1, -1, -1, -1, -1, -1]\r\n",
      "( '}{' )\t1.6\t0.66332\t[1, 2, 2, 1, 1, 2, 2, 1, 3, 1]\r\n",
      "(%\t-0.9\t0.9434\t[0, 0, 1, -1, -1, -1, -2, -2, -1, -2]\r\n",
      "('-:\t2.2\t1.16619\t[4, 1, 4, 3, 1, 2, 3, 1, 2, 1]\r\n",
      "(':\t2.3\t0.9\t[1, 3, 3, 2, 2, 4, 2, 3, 1, 2]\r\n",
      "((-:\t2.1\t0.53852\t[2, 2, 2, 1, 2, 3, 2, 2, 3, 2]\r\n"
     ]
    }
   ],
   "source": [
    "!head vader_lexicon.txt"
   ]
  },
  {
   "cell_type": "markdown",
   "metadata": {},
   "source": [
    "---\n",
    "<br/><br/>\n",
    "\n",
    "## Lexicon DataFrame\n",
    "\n",
    "As you can see, the lexicon contains emojis too! The first column of the lexicon is the *token*, or the word itself. The second column is the *polarity* of the word, or how positive / negative it is.\n",
    "\n",
    "(How did they decide the polarities of these words? What are the other two columns in the lexicon? See the link above.)\n",
    "\n",
    " Read in the lexicon into a DataFrame called `sent`. The index of the DF should be the tokens in the lexicon. `sent` should have one column: `polarity`: The polarity of each token."
   ]
  },
  {
   "cell_type": "code",
   "execution_count": 36,
   "metadata": {
    "tags": [
     "student"
    ]
   },
   "outputs": [
    {
     "data": {
      "text/html": [
       "<div>\n",
       "<table border=\"1\" class=\"dataframe\">\n",
       "  <thead>\n",
       "    <tr style=\"text-align: right;\">\n",
       "      <th></th>\n",
       "      <th>polarity</th>\n",
       "    </tr>\n",
       "    <tr>\n",
       "      <th>word</th>\n",
       "      <th></th>\n",
       "    </tr>\n",
       "  </thead>\n",
       "  <tbody>\n",
       "    <tr>\n",
       "      <th>$:</th>\n",
       "      <td>-1.5</td>\n",
       "    </tr>\n",
       "    <tr>\n",
       "      <th>%)</th>\n",
       "      <td>-0.4</td>\n",
       "    </tr>\n",
       "    <tr>\n",
       "      <th>%-)</th>\n",
       "      <td>-1.5</td>\n",
       "    </tr>\n",
       "    <tr>\n",
       "      <th>&amp;-:</th>\n",
       "      <td>-0.4</td>\n",
       "    </tr>\n",
       "    <tr>\n",
       "      <th>&amp;:</th>\n",
       "      <td>-0.7</td>\n",
       "    </tr>\n",
       "    <tr>\n",
       "      <th>( '}{' )</th>\n",
       "      <td>1.6</td>\n",
       "    </tr>\n",
       "    <tr>\n",
       "      <th>(%</th>\n",
       "      <td>-0.9</td>\n",
       "    </tr>\n",
       "    <tr>\n",
       "      <th>('-:</th>\n",
       "      <td>2.2</td>\n",
       "    </tr>\n",
       "    <tr>\n",
       "      <th>(':</th>\n",
       "      <td>2.3</td>\n",
       "    </tr>\n",
       "    <tr>\n",
       "      <th>((-:</th>\n",
       "      <td>2.1</td>\n",
       "    </tr>\n",
       "    <tr>\n",
       "      <th>(*</th>\n",
       "      <td>1.1</td>\n",
       "    </tr>\n",
       "    <tr>\n",
       "      <th>(-%</th>\n",
       "      <td>-0.7</td>\n",
       "    </tr>\n",
       "    <tr>\n",
       "      <th>(-*</th>\n",
       "      <td>1.3</td>\n",
       "    </tr>\n",
       "    <tr>\n",
       "      <th>(-:</th>\n",
       "      <td>1.6</td>\n",
       "    </tr>\n",
       "    <tr>\n",
       "      <th>(-:0</th>\n",
       "      <td>2.8</td>\n",
       "    </tr>\n",
       "    <tr>\n",
       "      <th>(-:&lt;</th>\n",
       "      <td>-0.4</td>\n",
       "    </tr>\n",
       "    <tr>\n",
       "      <th>(-:o</th>\n",
       "      <td>1.5</td>\n",
       "    </tr>\n",
       "    <tr>\n",
       "      <th>(-:O</th>\n",
       "      <td>1.5</td>\n",
       "    </tr>\n",
       "    <tr>\n",
       "      <th>(-:{</th>\n",
       "      <td>-0.1</td>\n",
       "    </tr>\n",
       "    <tr>\n",
       "      <th>(-:|&gt;*</th>\n",
       "      <td>1.9</td>\n",
       "    </tr>\n",
       "    <tr>\n",
       "      <th>(-;</th>\n",
       "      <td>1.3</td>\n",
       "    </tr>\n",
       "    <tr>\n",
       "      <th>(-;|</th>\n",
       "      <td>2.1</td>\n",
       "    </tr>\n",
       "    <tr>\n",
       "      <th>(8</th>\n",
       "      <td>2.6</td>\n",
       "    </tr>\n",
       "    <tr>\n",
       "      <th>(:</th>\n",
       "      <td>2.2</td>\n",
       "    </tr>\n",
       "    <tr>\n",
       "      <th>(:0</th>\n",
       "      <td>2.4</td>\n",
       "    </tr>\n",
       "    <tr>\n",
       "      <th>(:&lt;</th>\n",
       "      <td>-0.2</td>\n",
       "    </tr>\n",
       "    <tr>\n",
       "      <th>(:o</th>\n",
       "      <td>2.5</td>\n",
       "    </tr>\n",
       "    <tr>\n",
       "      <th>(:O</th>\n",
       "      <td>2.5</td>\n",
       "    </tr>\n",
       "    <tr>\n",
       "      <th>(;</th>\n",
       "      <td>1.1</td>\n",
       "    </tr>\n",
       "    <tr>\n",
       "      <th>(;&lt;</th>\n",
       "      <td>0.3</td>\n",
       "    </tr>\n",
       "    <tr>\n",
       "      <th>...</th>\n",
       "      <td>...</td>\n",
       "    </tr>\n",
       "    <tr>\n",
       "      <th>xd</th>\n",
       "      <td>2.8</td>\n",
       "    </tr>\n",
       "    <tr>\n",
       "      <th>xp</th>\n",
       "      <td>1.6</td>\n",
       "    </tr>\n",
       "    <tr>\n",
       "      <th>yay</th>\n",
       "      <td>2.4</td>\n",
       "    </tr>\n",
       "    <tr>\n",
       "      <th>yeah</th>\n",
       "      <td>1.2</td>\n",
       "    </tr>\n",
       "    <tr>\n",
       "      <th>yearning</th>\n",
       "      <td>0.5</td>\n",
       "    </tr>\n",
       "    <tr>\n",
       "      <th>yeees</th>\n",
       "      <td>1.7</td>\n",
       "    </tr>\n",
       "    <tr>\n",
       "      <th>yep</th>\n",
       "      <td>1.2</td>\n",
       "    </tr>\n",
       "    <tr>\n",
       "      <th>yes</th>\n",
       "      <td>1.7</td>\n",
       "    </tr>\n",
       "    <tr>\n",
       "      <th>youthful</th>\n",
       "      <td>1.3</td>\n",
       "    </tr>\n",
       "    <tr>\n",
       "      <th>yucky</th>\n",
       "      <td>-1.8</td>\n",
       "    </tr>\n",
       "    <tr>\n",
       "      <th>yummy</th>\n",
       "      <td>2.4</td>\n",
       "    </tr>\n",
       "    <tr>\n",
       "      <th>zealot</th>\n",
       "      <td>-1.9</td>\n",
       "    </tr>\n",
       "    <tr>\n",
       "      <th>zealots</th>\n",
       "      <td>-0.8</td>\n",
       "    </tr>\n",
       "    <tr>\n",
       "      <th>zealous</th>\n",
       "      <td>0.5</td>\n",
       "    </tr>\n",
       "    <tr>\n",
       "      <th>{:</th>\n",
       "      <td>1.8</td>\n",
       "    </tr>\n",
       "    <tr>\n",
       "      <th>|-0</th>\n",
       "      <td>-1.2</td>\n",
       "    </tr>\n",
       "    <tr>\n",
       "      <th>|-:</th>\n",
       "      <td>-0.8</td>\n",
       "    </tr>\n",
       "    <tr>\n",
       "      <th>|-:&gt;</th>\n",
       "      <td>-1.6</td>\n",
       "    </tr>\n",
       "    <tr>\n",
       "      <th>|-o</th>\n",
       "      <td>-1.2</td>\n",
       "    </tr>\n",
       "    <tr>\n",
       "      <th>|:</th>\n",
       "      <td>-0.5</td>\n",
       "    </tr>\n",
       "    <tr>\n",
       "      <th>|;-)</th>\n",
       "      <td>2.2</td>\n",
       "    </tr>\n",
       "    <tr>\n",
       "      <th>|=</th>\n",
       "      <td>-0.4</td>\n",
       "    </tr>\n",
       "    <tr>\n",
       "      <th>|^:</th>\n",
       "      <td>-1.1</td>\n",
       "    </tr>\n",
       "    <tr>\n",
       "      <th>|o:</th>\n",
       "      <td>-0.9</td>\n",
       "    </tr>\n",
       "    <tr>\n",
       "      <th>||-:</th>\n",
       "      <td>-2.3</td>\n",
       "    </tr>\n",
       "    <tr>\n",
       "      <th>}:</th>\n",
       "      <td>-2.1</td>\n",
       "    </tr>\n",
       "    <tr>\n",
       "      <th>}:(</th>\n",
       "      <td>-2.0</td>\n",
       "    </tr>\n",
       "    <tr>\n",
       "      <th>}:)</th>\n",
       "      <td>0.4</td>\n",
       "    </tr>\n",
       "    <tr>\n",
       "      <th>}:-(</th>\n",
       "      <td>-2.1</td>\n",
       "    </tr>\n",
       "    <tr>\n",
       "      <th>}:-)</th>\n",
       "      <td>0.3</td>\n",
       "    </tr>\n",
       "  </tbody>\n",
       "</table>\n",
       "<p>7517 rows × 1 columns</p>\n",
       "</div>"
      ],
      "text/plain": [
       "          polarity\n",
       "word              \n",
       "$:            -1.5\n",
       "%)            -0.4\n",
       "%-)           -1.5\n",
       "&-:           -0.4\n",
       "&:            -0.7\n",
       "( '}{' )       1.6\n",
       "(%            -0.9\n",
       "('-:           2.2\n",
       "(':            2.3\n",
       "((-:           2.1\n",
       "(*             1.1\n",
       "(-%           -0.7\n",
       "(-*            1.3\n",
       "(-:            1.6\n",
       "(-:0           2.8\n",
       "(-:<          -0.4\n",
       "(-:o           1.5\n",
       "(-:O           1.5\n",
       "(-:{          -0.1\n",
       "(-:|>*         1.9\n",
       "(-;            1.3\n",
       "(-;|           2.1\n",
       "(8             2.6\n",
       "(:             2.2\n",
       "(:0            2.4\n",
       "(:<           -0.2\n",
       "(:o            2.5\n",
       "(:O            2.5\n",
       "(;             1.1\n",
       "(;<            0.3\n",
       "...            ...\n",
       "xd             2.8\n",
       "xp             1.6\n",
       "yay            2.4\n",
       "yeah           1.2\n",
       "yearning       0.5\n",
       "yeees          1.7\n",
       "yep            1.2\n",
       "yes            1.7\n",
       "youthful       1.3\n",
       "yucky         -1.8\n",
       "yummy          2.4\n",
       "zealot        -1.9\n",
       "zealots       -0.8\n",
       "zealous        0.5\n",
       "{:             1.8\n",
       "|-0           -1.2\n",
       "|-:           -0.8\n",
       "|-:>          -1.6\n",
       "|-o           -1.2\n",
       "|:            -0.5\n",
       "|;-)           2.2\n",
       "|=            -0.4\n",
       "|^:           -1.1\n",
       "|o:           -0.9\n",
       "||-:          -2.3\n",
       "}:            -2.1\n",
       "}:(           -2.0\n",
       "}:)            0.4\n",
       "}:-(          -2.1\n",
       "}:-)           0.3\n",
       "\n",
       "[7517 rows x 1 columns]"
      ]
     },
     "execution_count": 36,
     "metadata": {},
     "output_type": "execute_result"
    }
   ],
   "source": [
    "sent = pd.read_csv('vader_lexicon.txt', sep =\"\t\", header = None, error_bad_lines = False)\n",
    "sent.columns = [\"word\", \"polarity\", \"c\", \"d\"]\n",
    "sent = sent[[\"word\", \"polarity\"]]\n",
    "sent.index = sent[\"word\"]\n",
    "sent = sent[[\"polarity\"]]\n",
    "sent"
   ]
  },
  {
   "cell_type": "markdown",
   "metadata": {},
   "source": [
    "---\n",
    "<br/><br/>\n",
    "\n",
    "## Calculating Sentiment by Tweet\n",
    "\n",
    "Now, let's use this lexicon to calculate the overall sentiment for each of Trump's tweets. Here's the basic idea:\n",
    "\n",
    "1. For each tweet, find the sentiment of each word.\n",
    "2. Calculate the sentiment of each tweet by taking the sum of the sentiments of its words.\n",
    "\n",
    "First, let's lowercase the text in the tweets since the lexicon is also lowercase. Set the `text` column of the `trump` DF to be the lowercased text of each tweet."
   ]
  },
  {
   "cell_type": "code",
   "execution_count": 38,
   "metadata": {
    "tags": [
     "student"
    ]
   },
   "outputs": [],
   "source": [
    "trump['text'] = trump['text'].str.lower()"
   ]
  },
  {
   "cell_type": "markdown",
   "metadata": {},
   "source": [
    "---\n",
    "<br/><br/>\n",
    "\n",
    "Now, let's get rid of punctuation since it'll cause us to fail to match words. Create a new column called `no_punc` in the `trump` DF to be the lowercased text of each tweet with all punctuation replaced by a single space. We consider punctuation characters to be any character that isn't a Unicode word character or a whitespace character. You may want to consult the Python documentation on regexes for this problem.\n",
    "\n",
    "(Why don't we simply remove punctuation instead of replacing with a space? See if you can figure this out by looking at the tweet data.)"
   ]
  },
  {
   "cell_type": "code",
   "execution_count": 40,
   "metadata": {
    "tags": [
     "student"
    ]
   },
   "outputs": [],
   "source": [
    "# Save your regex in punct_re\n",
    "punct_re = r'[^\\w\\s]'\n",
    "trump['no_punc'] = trump['text'].str.replace(punct_re, ' ')"
   ]
  },
  {
   "cell_type": "markdown",
   "metadata": {},
   "source": [
    "---\n",
    "<br/> <br/>\n",
    "\n",
    "## Breaking the Tweets into Individual Words\n",
    "\n",
    "\n",
    "Now, let's convert the tweets into what's called a *tidy format* to make the sentiments easier to calculate. Use the `no_punc` column of `trump` to create a table called `tidy_format`. The index of the table should be the IDs of the tweets, repeated once for every word in the tweet. It has two columns:\n",
    "\n",
    "1. `num`: The location of the word in the tweet. For example, if the tweet was \"i love america\", then the location of the word \"i\" is 0, \"love\" is 1, and \"america\" is 2.\n",
    "2. `word`: The individual words of each tweet."
   ]
  },
  {
   "cell_type": "code",
   "execution_count": 42,
   "metadata": {
    "tags": [
     "student"
    ]
   },
   "outputs": [
    {
     "data": {
      "text/html": [
       "<div>\n",
       "<table border=\"1\" class=\"dataframe\">\n",
       "  <thead>\n",
       "    <tr style=\"text-align: right;\">\n",
       "      <th></th>\n",
       "      <th>num</th>\n",
       "      <th>word</th>\n",
       "    </tr>\n",
       "    <tr>\n",
       "      <th>index</th>\n",
       "      <th></th>\n",
       "      <th></th>\n",
       "    </tr>\n",
       "  </thead>\n",
       "  <tbody>\n",
       "    <tr>\n",
       "      <th>912771708544802823</th>\n",
       "      <td>0</td>\n",
       "      <td>rt</td>\n",
       "    </tr>\n",
       "    <tr>\n",
       "      <th>912771708544802823</th>\n",
       "      <td>1</td>\n",
       "      <td>ricardorossello</td>\n",
       "    </tr>\n",
       "    <tr>\n",
       "      <th>912771708544802823</th>\n",
       "      <td>2</td>\n",
       "      <td>briefed</td>\n",
       "    </tr>\n",
       "    <tr>\n",
       "      <th>912771708544802823</th>\n",
       "      <td>3</td>\n",
       "      <td>potus</td>\n",
       "    </tr>\n",
       "    <tr>\n",
       "      <th>912771708544802823</th>\n",
       "      <td>4</td>\n",
       "      <td>realdonaldtrump</td>\n",
       "    </tr>\n",
       "  </tbody>\n",
       "</table>\n",
       "</div>"
      ],
      "text/plain": [
       "                    num             word\n",
       "index                                   \n",
       "912771708544802823    0               rt\n",
       "912771708544802823    1  ricardorossello\n",
       "912771708544802823    2          briefed\n",
       "912771708544802823    3            potus\n",
       "912771708544802823    4  realdonaldtrump"
      ]
     },
     "execution_count": 42,
     "metadata": {},
     "output_type": "execute_result"
    }
   ],
   "source": [
    "strings_split = trump.loc[:, [\"no_punc\"]]\n",
    "strings_split = trump['no_punc'].str.split(expand = True).stack()\n",
    "strings_split = strings_split.to_frame()\n",
    "strings_split = strings_split.reset_index()\n",
    "strings_split.columns = ['index', 'num', 'word']\n",
    "strings_split.index = strings_split['index']\n",
    "strings_split = strings_split[['num', 'word']]\n",
    "tidy_format = strings_split\n",
    "tidy_format.head()"
   ]
  },
  {
   "cell_type": "markdown",
   "metadata": {},
   "source": [
    "---\n",
    "<br/> <br/>\n",
    "\n",
    "\n",
    "## Calculating Total Sentiment on each Tweet\n",
    "\n",
    "Now that we have this table in the tidy format, it becomes much easier to find the sentiment of each tweet: we can join the table with the lexicon table. Calculate a table called `polarities`. Its index should be the IDs of the tweets (one row per ID). It should have one column called `polarity` containing the summed sentiment polarity of each tweet."
   ]
  },
  {
   "cell_type": "code",
   "execution_count": 44,
   "metadata": {
    "tags": [
     "student"
    ]
   },
   "outputs": [
    {
     "data": {
      "text/html": [
       "<div>\n",
       "<table border=\"1\" class=\"dataframe\">\n",
       "  <thead>\n",
       "    <tr style=\"text-align: right;\">\n",
       "      <th></th>\n",
       "      <th>polarity</th>\n",
       "    </tr>\n",
       "    <tr>\n",
       "      <th>index</th>\n",
       "      <th></th>\n",
       "    </tr>\n",
       "  </thead>\n",
       "  <tbody>\n",
       "    <tr>\n",
       "      <th>758731880183193601</th>\n",
       "      <td>5.7</td>\n",
       "    </tr>\n",
       "    <tr>\n",
       "      <th>758732782348623874</th>\n",
       "      <td>0.0</td>\n",
       "    </tr>\n",
       "    <tr>\n",
       "      <th>758761521317023744</th>\n",
       "      <td>0.0</td>\n",
       "    </tr>\n",
       "    <tr>\n",
       "      <th>758761945910669312</th>\n",
       "      <td>0.0</td>\n",
       "    </tr>\n",
       "    <tr>\n",
       "      <th>758768028595032064</th>\n",
       "      <td>0.0</td>\n",
       "    </tr>\n",
       "  </tbody>\n",
       "</table>\n",
       "</div>"
      ],
      "text/plain": [
       "                    polarity\n",
       "index                       \n",
       "758731880183193601       5.7\n",
       "758732782348623874       0.0\n",
       "758761521317023744       0.0\n",
       "758761945910669312       0.0\n",
       "758768028595032064       0.0"
      ]
     },
     "execution_count": 44,
     "metadata": {},
     "output_type": "execute_result"
    }
   ],
   "source": [
    "joined = tidy_format.join(sent, on = tidy_format['word']).fillna(0)\n",
    "joined = joined.groupby(joined.index).sum()\n",
    "polarities = joined[['polarity']]\n",
    "polarities.head()"
   ]
  },
  {
   "cell_type": "markdown",
   "metadata": {},
   "source": [
    "---\n",
    "<br/> <br/>\n",
    "\n",
    "\n",
    "## Adding a Sentiment Score to Each Tweet in the DataFrame\n",
    "\n",
    "Finally, I will use the `polarities` and `trump` tables to create a new table called `senti` that is the `trump` table with an extra column called `polarity` containing the sentiment polarity of each tweet."
   ]
  },
  {
   "cell_type": "code",
   "execution_count": 46,
   "metadata": {},
   "outputs": [
    {
     "data": {
      "text/plain": [
       "3242"
      ]
     },
     "execution_count": 46,
     "metadata": {},
     "output_type": "execute_result"
    }
   ],
   "source": [
    "trump.head()\n",
    "len(trump)\n",
    "len(polarities)"
   ]
  },
  {
   "cell_type": "code",
   "execution_count": 47,
   "metadata": {
    "tags": [
     "student"
    ]
   },
   "outputs": [
    {
     "data": {
      "text/html": [
       "<div>\n",
       "<table border=\"1\" class=\"dataframe\">\n",
       "  <thead>\n",
       "    <tr style=\"text-align: right;\">\n",
       "      <th></th>\n",
       "      <th>retweet_count</th>\n",
       "      <th>source</th>\n",
       "      <th>text</th>\n",
       "      <th>time</th>\n",
       "      <th>est_time</th>\n",
       "      <th>no_punc</th>\n",
       "      <th>polarity</th>\n",
       "    </tr>\n",
       "  </thead>\n",
       "  <tbody>\n",
       "    <tr>\n",
       "      <th>912771708544802823</th>\n",
       "      <td>829</td>\n",
       "      <td>Twitter for iPhone</td>\n",
       "      <td>rt @ricardorossello: briefed @potus @realdonal...</td>\n",
       "      <td>2017-09-26 20:11:48</td>\n",
       "      <td>2017-09-26 16:11:48-04:00</td>\n",
       "      <td>rt  ricardorossello  briefed  potus  realdonal...</td>\n",
       "      <td>3.5</td>\n",
       "    </tr>\n",
       "    <tr>\n",
       "      <th>912711807709667331</th>\n",
       "      <td>3956</td>\n",
       "      <td>Twitter for iPhone</td>\n",
       "      <td>honored to welcome republican and democrat mem...</td>\n",
       "      <td>2017-09-26 16:13:46</td>\n",
       "      <td>2017-09-26 12:13:46-04:00</td>\n",
       "      <td>honored to welcome republican and democrat mem...</td>\n",
       "      <td>4.8</td>\n",
       "    </tr>\n",
       "    <tr>\n",
       "      <th>912670906828443648</th>\n",
       "      <td>4083</td>\n",
       "      <td>Twitter for iPhone</td>\n",
       "      <td>alabama, get out and vote for luther strange -...</td>\n",
       "      <td>2017-09-26 13:31:15</td>\n",
       "      <td>2017-09-26 09:31:15-04:00</td>\n",
       "      <td>alabama  get out and vote for luther strange  ...</td>\n",
       "      <td>-0.8</td>\n",
       "    </tr>\n",
       "    <tr>\n",
       "      <th>912664574461120512</th>\n",
       "      <td>13407</td>\n",
       "      <td>Twitter for iPhone</td>\n",
       "      <td>the nfl has all sorts of rules and regulations...</td>\n",
       "      <td>2017-09-26 13:06:05</td>\n",
       "      <td>2017-09-26 09:06:05-04:00</td>\n",
       "      <td>the nfl has all sorts of rules and regulations...</td>\n",
       "      <td>0.0</td>\n",
       "    </tr>\n",
       "    <tr>\n",
       "      <th>912651215997202432</th>\n",
       "      <td>9860</td>\n",
       "      <td>Twitter for iPhone</td>\n",
       "      <td>thank you to carmen yulin cruz, the mayor of s...</td>\n",
       "      <td>2017-09-26 12:13:00</td>\n",
       "      <td>2017-09-26 08:13:00-04:00</td>\n",
       "      <td>thank you to carmen yulin cruz  the mayor of s...</td>\n",
       "      <td>3.5</td>\n",
       "    </tr>\n",
       "    <tr>\n",
       "      <th>912636538156146688</th>\n",
       "      <td>8789</td>\n",
       "      <td>Twitter for iPhone</td>\n",
       "      <td>great interview on @foxandfriends with the par...</td>\n",
       "      <td>2017-09-26 11:14:41</td>\n",
       "      <td>2017-09-26 07:14:41-04:00</td>\n",
       "      <td>great interview on  foxandfriends with the par...</td>\n",
       "      <td>0.5</td>\n",
       "    </tr>\n",
       "    <tr>\n",
       "      <th>912631781098221568</th>\n",
       "      <td>4314</td>\n",
       "      <td>Twitter for iPhone</td>\n",
       "      <td>luther strange has been shooting up in the ala...</td>\n",
       "      <td>2017-09-26 10:55:47</td>\n",
       "      <td>2017-09-26 06:55:47-04:00</td>\n",
       "      <td>luther strange has been shooting up in the ala...</td>\n",
       "      <td>0.5</td>\n",
       "    </tr>\n",
       "    <tr>\n",
       "      <th>912629775629418501</th>\n",
       "      <td>11730</td>\n",
       "      <td>Twitter for iPhone</td>\n",
       "      <td>but while dallas dropped to its knees as a tea...</td>\n",
       "      <td>2017-09-26 10:47:49</td>\n",
       "      <td>2017-09-26 06:47:49-04:00</td>\n",
       "      <td>but while dallas dropped to its knees as a tea...</td>\n",
       "      <td>5.0</td>\n",
       "    </tr>\n",
       "    <tr>\n",
       "      <th>912626731357540353</th>\n",
       "      <td>16992</td>\n",
       "      <td>Twitter for iPhone</td>\n",
       "      <td>the booing at the nfl football game last night...</td>\n",
       "      <td>2017-09-26 10:35:43</td>\n",
       "      <td>2017-09-26 06:35:43-04:00</td>\n",
       "      <td>the booing at the nfl football game last night...</td>\n",
       "      <td>0.4</td>\n",
       "    </tr>\n",
       "    <tr>\n",
       "      <th>912624892239077376</th>\n",
       "      <td>13958</td>\n",
       "      <td>Twitter for iPhone</td>\n",
       "      <td>ratings for nfl football are way down except b...</td>\n",
       "      <td>2017-09-26 10:28:24</td>\n",
       "      <td>2017-09-26 06:28:24-04:00</td>\n",
       "      <td>ratings for nfl football are way down except b...</td>\n",
       "      <td>-2.0</td>\n",
       "    </tr>\n",
       "    <tr>\n",
       "      <th>912494675206053888</th>\n",
       "      <td>7179</td>\n",
       "      <td>Twitter for iPhone</td>\n",
       "      <td>big election tomorrow in the great state of al...</td>\n",
       "      <td>2017-09-26 01:50:58</td>\n",
       "      <td>2017-09-25 21:50:58-04:00</td>\n",
       "      <td>big election tomorrow in the great state of al...</td>\n",
       "      <td>-0.7</td>\n",
       "    </tr>\n",
       "    <tr>\n",
       "      <th>912487929783754755</th>\n",
       "      <td>24067</td>\n",
       "      <td>Media Studio</td>\n",
       "      <td>a few of the many clips of john mccain talking...</td>\n",
       "      <td>2017-09-26 01:24:10</td>\n",
       "      <td>2017-09-25 21:24:10-04:00</td>\n",
       "      <td>a few of the many clips of john mccain talking...</td>\n",
       "      <td>2.2</td>\n",
       "    </tr>\n",
       "    <tr>\n",
       "      <th>912481556127780865</th>\n",
       "      <td>7569</td>\n",
       "      <td>Twitter for iPhone</td>\n",
       "      <td>...owed to wall street and the banks which, sa...</td>\n",
       "      <td>2017-09-26 00:58:50</td>\n",
       "      <td>2017-09-25 20:58:50-04:00</td>\n",
       "      <td>owed to wall street and the banks which  sa...</td>\n",
       "      <td>0.1</td>\n",
       "    </tr>\n",
       "    <tr>\n",
       "      <th>912479500511965184</th>\n",
       "      <td>8298</td>\n",
       "      <td>Twitter for iPhone</td>\n",
       "      <td>...it's old electrical grid, which was in terr...</td>\n",
       "      <td>2017-09-26 00:50:40</td>\n",
       "      <td>2017-09-25 20:50:40-04:00</td>\n",
       "      <td>it s old electrical grid  which was in terr...</td>\n",
       "      <td>-7.3</td>\n",
       "    </tr>\n",
       "    <tr>\n",
       "      <th>912478274508423168</th>\n",
       "      <td>12185</td>\n",
       "      <td>Twitter for iPhone</td>\n",
       "      <td>texas &amp;amp; florida are doing great but puerto...</td>\n",
       "      <td>2017-09-26 00:45:48</td>\n",
       "      <td>2017-09-25 20:45:48-04:00</td>\n",
       "      <td>texas  amp  florida are doing great but puerto...</td>\n",
       "      <td>-4.3</td>\n",
       "    </tr>\n",
       "    <tr>\n",
       "      <th>912443924979077120</th>\n",
       "      <td>24756</td>\n",
       "      <td>Twitter for iPhone</td>\n",
       "      <td>tremendous backlash against the nfl and its pl...</td>\n",
       "      <td>2017-09-25 22:29:18</td>\n",
       "      <td>2017-09-25 18:29:18-04:00</td>\n",
       "      <td>tremendous backlash against the nfl and its pl...</td>\n",
       "      <td>-1.8</td>\n",
       "    </tr>\n",
       "    <tr>\n",
       "      <th>912443607084404736</th>\n",
       "      <td>20683</td>\n",
       "      <td>Twitter for iPhone</td>\n",
       "      <td>general john kelly totally agrees w/ my stance...</td>\n",
       "      <td>2017-09-25 22:28:02</td>\n",
       "      <td>2017-09-25 18:28:02-04:00</td>\n",
       "      <td>general john kelly totally agrees w  my stance...</td>\n",
       "      <td>3.9</td>\n",
       "    </tr>\n",
       "    <tr>\n",
       "      <th>912443217227976704</th>\n",
       "      <td>16153</td>\n",
       "      <td>Twitter for iPhone</td>\n",
       "      <td>.@cnn is #fakenews. just reported cos (john ke...</td>\n",
       "      <td>2017-09-25 22:26:30</td>\n",
       "      <td>2017-09-25 18:26:30-04:00</td>\n",
       "      <td>cnn is  fakenews  just reported cos  john ke...</td>\n",
       "      <td>0.0</td>\n",
       "    </tr>\n",
       "    <tr>\n",
       "      <th>912302339360542720</th>\n",
       "      <td>20660</td>\n",
       "      <td>Twitter for iPhone</td>\n",
       "      <td>rt @jaymaga45: nflplayer pattillman joined u.s...</td>\n",
       "      <td>2017-09-25 13:06:42</td>\n",
       "      <td>2017-09-25 09:06:42-04:00</td>\n",
       "      <td>rt  jaymaga45  nflplayer pattillman joined u s...</td>\n",
       "      <td>-1.6</td>\n",
       "    </tr>\n",
       "    <tr>\n",
       "      <th>912301271817838593</th>\n",
       "      <td>70411</td>\n",
       "      <td>Twitter for iPhone</td>\n",
       "      <td>#standforouranthem</td>\n",
       "      <td>2017-09-25 13:02:27</td>\n",
       "      <td>2017-09-25 09:02:27-04:00</td>\n",
       "      <td>standforouranthem</td>\n",
       "      <td>0.0</td>\n",
       "    </tr>\n",
       "    <tr>\n",
       "      <th>912281550712135680</th>\n",
       "      <td>13690</td>\n",
       "      <td>Twitter for iPhone</td>\n",
       "      <td>the white house never looked more beautiful th...</td>\n",
       "      <td>2017-09-25 11:44:05</td>\n",
       "      <td>2017-09-25 07:44:05-04:00</td>\n",
       "      <td>the white house never looked more beautiful th...</td>\n",
       "      <td>2.5</td>\n",
       "    </tr>\n",
       "    <tr>\n",
       "      <th>912280282224525312</th>\n",
       "      <td>53663</td>\n",
       "      <td>Twitter for iPhone</td>\n",
       "      <td>the issue of kneeling has nothing to do with r...</td>\n",
       "      <td>2017-09-25 11:39:03</td>\n",
       "      <td>2017-09-25 07:39:03-04:00</td>\n",
       "      <td>the issue of kneeling has nothing to do with r...</td>\n",
       "      <td>4.2</td>\n",
       "    </tr>\n",
       "    <tr>\n",
       "      <th>912278438127525888</th>\n",
       "      <td>23899</td>\n",
       "      <td>Twitter for iPhone</td>\n",
       "      <td>many people booed the players who kneeled yest...</td>\n",
       "      <td>2017-09-25 11:31:43</td>\n",
       "      <td>2017-09-25 07:31:43-04:00</td>\n",
       "      <td>many people booed the players who kneeled yest...</td>\n",
       "      <td>1.6</td>\n",
       "    </tr>\n",
       "    <tr>\n",
       "      <th>912276850793213952</th>\n",
       "      <td>35045</td>\n",
       "      <td>Twitter for iPhone</td>\n",
       "      <td>so proud of nascar and its supporters and fans...</td>\n",
       "      <td>2017-09-25 11:25:25</td>\n",
       "      <td>2017-09-25 07:25:25-04:00</td>\n",
       "      <td>so proud of nascar and its supporters and fans...</td>\n",
       "      <td>8.3</td>\n",
       "    </tr>\n",
       "    <tr>\n",
       "      <th>912101775221706752</th>\n",
       "      <td>22697</td>\n",
       "      <td>Twitter for iPhone</td>\n",
       "      <td>making america safe is my number one priority....</td>\n",
       "      <td>2017-09-24 23:49:43</td>\n",
       "      <td>2017-09-24 19:49:43-04:00</td>\n",
       "      <td>making america safe is my number one priority ...</td>\n",
       "      <td>5.2</td>\n",
       "    </tr>\n",
       "    <tr>\n",
       "      <th>912080538755846144</th>\n",
       "      <td>39728</td>\n",
       "      <td>Twitter for iPhone</td>\n",
       "      <td>sports fans should never condone players that ...</td>\n",
       "      <td>2017-09-24 22:25:20</td>\n",
       "      <td>2017-09-24 18:25:20-04:00</td>\n",
       "      <td>sports fans should never condone players that ...</td>\n",
       "      <td>2.1</td>\n",
       "    </tr>\n",
       "    <tr>\n",
       "      <th>912079629648883712</th>\n",
       "      <td>12362</td>\n",
       "      <td>Twitter for iPhone</td>\n",
       "      <td>alaska, arizona, maine and kentucky are big wi...</td>\n",
       "      <td>2017-09-24 22:21:43</td>\n",
       "      <td>2017-09-24 18:21:43-04:00</td>\n",
       "      <td>alaska  arizona  maine and kentucky are big wi...</td>\n",
       "      <td>2.1</td>\n",
       "    </tr>\n",
       "    <tr>\n",
       "      <th>912037003923005440</th>\n",
       "      <td>52097</td>\n",
       "      <td>Twitter for iPhone</td>\n",
       "      <td>courageous patriots have fought and died for o...</td>\n",
       "      <td>2017-09-24 19:32:21</td>\n",
       "      <td>2017-09-24 15:32:21-04:00</td>\n",
       "      <td>courageous patriots have fought and died for o...</td>\n",
       "      <td>9.0</td>\n",
       "    </tr>\n",
       "    <tr>\n",
       "      <th>912032583466340353</th>\n",
       "      <td>22065</td>\n",
       "      <td>Twitter for iPhone</td>\n",
       "      <td>rt @donnawr8: @realdonaldtrump i wonder what t...</td>\n",
       "      <td>2017-09-24 19:14:47</td>\n",
       "      <td>2017-09-24 15:14:47-04:00</td>\n",
       "      <td>rt  donnawr8   realdonaldtrump i wonder what t...</td>\n",
       "      <td>2.4</td>\n",
       "    </tr>\n",
       "    <tr>\n",
       "      <th>912032094687252485</th>\n",
       "      <td>19941</td>\n",
       "      <td>Twitter for iPhone</td>\n",
       "      <td>rt @donnawr8: @realdonaldtrump you can boycott...</td>\n",
       "      <td>2017-09-24 19:12:50</td>\n",
       "      <td>2017-09-24 15:12:50-04:00</td>\n",
       "      <td>rt  donnawr8   realdonaldtrump you can boycott...</td>\n",
       "      <td>-2.6</td>\n",
       "    </tr>\n",
       "    <tr>\n",
       "      <th>...</th>\n",
       "      <td>...</td>\n",
       "      <td>...</td>\n",
       "      <td>...</td>\n",
       "      <td>...</td>\n",
       "      <td>...</td>\n",
       "      <td>...</td>\n",
       "      <td>...</td>\n",
       "    </tr>\n",
       "    <tr>\n",
       "      <th>759071976182861824</th>\n",
       "      <td>9975</td>\n",
       "      <td>Twitter for Android</td>\n",
       "      <td>wow, my campaign is hearing from more and more...</td>\n",
       "      <td>2016-07-29 17:03:56</td>\n",
       "      <td>2016-07-29 13:03:56-04:00</td>\n",
       "      <td>wow  my campaign is hearing from more and more...</td>\n",
       "      <td>6.4</td>\n",
       "    </tr>\n",
       "    <tr>\n",
       "      <th>759070976181084160</th>\n",
       "      <td>12284</td>\n",
       "      <td>Twitter for iPhone</td>\n",
       "      <td>in hillary clinton's america - things get wors...</td>\n",
       "      <td>2016-07-29 16:59:58</td>\n",
       "      <td>2016-07-29 12:59:58-04:00</td>\n",
       "      <td>in hillary clinton s america   things get wors...</td>\n",
       "      <td>-2.1</td>\n",
       "    </tr>\n",
       "    <tr>\n",
       "      <th>759070106546638849</th>\n",
       "      <td>7976</td>\n",
       "      <td>Twitter for Android</td>\n",
       "      <td>the dishonest media didn't mention that bernie...</td>\n",
       "      <td>2016-07-29 16:56:30</td>\n",
       "      <td>2016-07-29 12:56:30-04:00</td>\n",
       "      <td>the dishonest media didn t mention that bernie...</td>\n",
       "      <td>-4.4</td>\n",
       "    </tr>\n",
       "    <tr>\n",
       "      <th>759064533814038528</th>\n",
       "      <td>6344</td>\n",
       "      <td>Twitter for iPhone</td>\n",
       "      <td>thank you! \\n\\nfacebook: https://t.co/nmlrjqza...</td>\n",
       "      <td>2016-07-29 16:34:22</td>\n",
       "      <td>2016-07-29 12:34:22-04:00</td>\n",
       "      <td>thank you  \\n\\nfacebook  https   t co nmlrjqza...</td>\n",
       "      <td>1.5</td>\n",
       "    </tr>\n",
       "    <tr>\n",
       "      <th>759029315006705664</th>\n",
       "      <td>16418</td>\n",
       "      <td>Twitter for Android</td>\n",
       "      <td>crooked hillary said that i \"couldn't handle t...</td>\n",
       "      <td>2016-07-29 14:14:25</td>\n",
       "      <td>2016-07-29 10:14:25-04:00</td>\n",
       "      <td>crooked hillary said that i  couldn t handle t...</td>\n",
       "      <td>-2.0</td>\n",
       "    </tr>\n",
       "    <tr>\n",
       "      <th>759027356434518016</th>\n",
       "      <td>5995</td>\n",
       "      <td>Twitter for Android</td>\n",
       "      <td>if michael bloomberg ran again for mayor of ne...</td>\n",
       "      <td>2016-07-29 14:06:38</td>\n",
       "      <td>2016-07-29 10:06:38-04:00</td>\n",
       "      <td>if michael bloomberg ran again for mayor of ne...</td>\n",
       "      <td>0.0</td>\n",
       "    </tr>\n",
       "    <tr>\n",
       "      <th>759025610249216000</th>\n",
       "      <td>7635</td>\n",
       "      <td>Twitter for Android</td>\n",
       "      <td>\"little\" michael bloomberg, who never had the ...</td>\n",
       "      <td>2016-07-29 13:59:42</td>\n",
       "      <td>2016-07-29 09:59:42-04:00</td>\n",
       "      <td>little  michael bloomberg  who never had the ...</td>\n",
       "      <td>-3.1</td>\n",
       "    </tr>\n",
       "    <tr>\n",
       "      <th>759024055123009536</th>\n",
       "      <td>6223</td>\n",
       "      <td>Twitter for Android</td>\n",
       "      <td>general john allen, who i never met but spoke ...</td>\n",
       "      <td>2016-07-29 13:53:31</td>\n",
       "      <td>2016-07-29 09:53:31-04:00</td>\n",
       "      <td>general john allen  who i never met but spoke ...</td>\n",
       "      <td>-8.5</td>\n",
       "    </tr>\n",
       "    <tr>\n",
       "      <th>759021886055387136</th>\n",
       "      <td>9341</td>\n",
       "      <td>Twitter for Android</td>\n",
       "      <td>crooked hillary clinton mentioned me 22 times ...</td>\n",
       "      <td>2016-07-29 13:44:54</td>\n",
       "      <td>2016-07-29 09:44:54-04:00</td>\n",
       "      <td>crooked hillary clinton mentioned me 22 times ...</td>\n",
       "      <td>-3.1</td>\n",
       "    </tr>\n",
       "    <tr>\n",
       "      <th>759017481633542145</th>\n",
       "      <td>3087</td>\n",
       "      <td>Twitter for iPhone</td>\n",
       "      <td>join @mike_pence at the university of northwes...</td>\n",
       "      <td>2016-07-29 13:27:24</td>\n",
       "      <td>2016-07-29 09:27:24-04:00</td>\n",
       "      <td>join  mike_pence at the university of northwes...</td>\n",
       "      <td>1.2</td>\n",
       "    </tr>\n",
       "    <tr>\n",
       "      <th>759014707277598720</th>\n",
       "      <td>8138</td>\n",
       "      <td>Twitter for Android</td>\n",
       "      <td>\"@anncoulter: \"i believe in science\" dem code ...</td>\n",
       "      <td>2016-07-29 13:16:22</td>\n",
       "      <td>2016-07-29 09:16:22-04:00</td>\n",
       "      <td>anncoulter   i believe in science  dem code ...</td>\n",
       "      <td>0.0</td>\n",
       "    </tr>\n",
       "    <tr>\n",
       "      <th>759013928315686917</th>\n",
       "      <td>3737</td>\n",
       "      <td>Twitter for iPhone</td>\n",
       "      <td>campaign statement: \\nhttps://t.co/rnw3ed2ifr</td>\n",
       "      <td>2016-07-29 13:13:16</td>\n",
       "      <td>2016-07-29 09:13:16-04:00</td>\n",
       "      <td>campaign statement  \\nhttps   t co rnw3ed2ifr</td>\n",
       "      <td>0.0</td>\n",
       "    </tr>\n",
       "    <tr>\n",
       "      <th>759013889761697794</th>\n",
       "      <td>9276</td>\n",
       "      <td>Twitter for Android</td>\n",
       "      <td>two policemen just shot in san diego, one dead...</td>\n",
       "      <td>2016-07-29 13:13:07</td>\n",
       "      <td>2016-07-29 09:13:07-04:00</td>\n",
       "      <td>two policemen just shot in san diego  one dead...</td>\n",
       "      <td>-5.1</td>\n",
       "    </tr>\n",
       "    <tr>\n",
       "      <th>759008377577967616</th>\n",
       "      <td>8670</td>\n",
       "      <td>Twitter for Android</td>\n",
       "      <td>crooked hillary clinton made up facts about me...</td>\n",
       "      <td>2016-07-29 12:51:13</td>\n",
       "      <td>2016-07-29 08:51:13-04:00</td>\n",
       "      <td>crooked hillary clinton made up facts about me...</td>\n",
       "      <td>-3.4</td>\n",
       "    </tr>\n",
       "    <tr>\n",
       "      <th>759005597899436032</th>\n",
       "      <td>5798</td>\n",
       "      <td>Twitter for Android</td>\n",
       "      <td>the media coverage this morning of the very av...</td>\n",
       "      <td>2016-07-29 12:40:10</td>\n",
       "      <td>2016-07-29 08:40:10-04:00</td>\n",
       "      <td>the media coverage this morning of the very av...</td>\n",
       "      <td>-0.9</td>\n",
       "    </tr>\n",
       "    <tr>\n",
       "      <th>758874457142284288</th>\n",
       "      <td>17153</td>\n",
       "      <td>Twitter for iPhone</td>\n",
       "      <td>no one has worse judgement than hillary clinto...</td>\n",
       "      <td>2016-07-29 03:59:04</td>\n",
       "      <td>2016-07-28 23:59:04-04:00</td>\n",
       "      <td>no one has worse judgement than hillary clinto...</td>\n",
       "      <td>-5.1</td>\n",
       "    </tr>\n",
       "    <tr>\n",
       "      <th>758873961425805312</th>\n",
       "      <td>12876</td>\n",
       "      <td>Twitter for iPhone</td>\n",
       "      <td>hillary's wars in the middle east have unleash...</td>\n",
       "      <td>2016-07-29 03:57:06</td>\n",
       "      <td>2016-07-28 23:57:06-04:00</td>\n",
       "      <td>hillary s wars in the middle east have unleash...</td>\n",
       "      <td>-8.9</td>\n",
       "    </tr>\n",
       "    <tr>\n",
       "      <th>758873275044798464</th>\n",
       "      <td>16356</td>\n",
       "      <td>Twitter for iPhone</td>\n",
       "      <td>hillary's vision is a borderless world where w...</td>\n",
       "      <td>2016-07-29 03:54:22</td>\n",
       "      <td>2016-07-28 23:54:22-04:00</td>\n",
       "      <td>hillary s vision is a borderless world where w...</td>\n",
       "      <td>-0.8</td>\n",
       "    </tr>\n",
       "    <tr>\n",
       "      <th>758872873234681860</th>\n",
       "      <td>16090</td>\n",
       "      <td>Twitter for iPhone</td>\n",
       "      <td>hillary will never reform wall street. she is ...</td>\n",
       "      <td>2016-07-29 03:52:46</td>\n",
       "      <td>2016-07-28 23:52:46-04:00</td>\n",
       "      <td>hillary will never reform wall street  she is ...</td>\n",
       "      <td>0.0</td>\n",
       "    </tr>\n",
       "    <tr>\n",
       "      <th>758872422028148740</th>\n",
       "      <td>14563</td>\n",
       "      <td>Twitter for iPhone</td>\n",
       "      <td>our way of life is under threat by radical isl...</td>\n",
       "      <td>2016-07-29 03:50:59</td>\n",
       "      <td>2016-07-28 23:50:59-04:00</td>\n",
       "      <td>our way of life is under threat by radical isl...</td>\n",
       "      <td>-2.4</td>\n",
       "    </tr>\n",
       "    <tr>\n",
       "      <th>758871653547806724</th>\n",
       "      <td>19367</td>\n",
       "      <td>Twitter for iPhone</td>\n",
       "      <td>hillary's refusal to mention radical islam, as...</td>\n",
       "      <td>2016-07-29 03:47:56</td>\n",
       "      <td>2016-07-28 23:47:56-04:00</td>\n",
       "      <td>hillary s refusal to mention radical islam  as...</td>\n",
       "      <td>1.3</td>\n",
       "    </tr>\n",
       "    <tr>\n",
       "      <th>758851150175055874</th>\n",
       "      <td>7838</td>\n",
       "      <td>Twitter for iPhone</td>\n",
       "      <td>departing now - thank you cedar rapids, iowa. ...</td>\n",
       "      <td>2016-07-29 02:26:27</td>\n",
       "      <td>2016-07-28 22:26:27-04:00</td>\n",
       "      <td>departing now   thank you cedar rapids  iowa  ...</td>\n",
       "      <td>1.5</td>\n",
       "    </tr>\n",
       "    <tr>\n",
       "      <th>758802697763958784</th>\n",
       "      <td>29460</td>\n",
       "      <td>Twitter for iPhone</td>\n",
       "      <td>#crookedhillary https://t.co/jexfno6e3s</td>\n",
       "      <td>2016-07-28 23:13:55</td>\n",
       "      <td>2016-07-28 19:13:55-04:00</td>\n",
       "      <td>crookedhillary https   t co jexfno6e3s</td>\n",
       "      <td>0.0</td>\n",
       "    </tr>\n",
       "    <tr>\n",
       "      <th>758778607489708032</th>\n",
       "      <td>6276</td>\n",
       "      <td>Twitter for iPhone</td>\n",
       "      <td>\"dems warn not to underestimate trump's potent...</td>\n",
       "      <td>2016-07-28 21:38:12</td>\n",
       "      <td>2016-07-28 17:38:12-04:00</td>\n",
       "      <td>dems warn not to underestimate trump s potent...</td>\n",
       "      <td>1.2</td>\n",
       "    </tr>\n",
       "    <tr>\n",
       "      <th>758771144140820481</th>\n",
       "      <td>4238</td>\n",
       "      <td>Twitter for iPhone</td>\n",
       "      <td>great to be back in iowa! #tbt with @jerryjrfa...</td>\n",
       "      <td>2016-07-28 21:08:32</td>\n",
       "      <td>2016-07-28 17:08:32-04:00</td>\n",
       "      <td>great to be back in iowa   tbt with  jerryjrfa...</td>\n",
       "      <td>3.1</td>\n",
       "    </tr>\n",
       "    <tr>\n",
       "      <th>758768028595032064</th>\n",
       "      <td>10303</td>\n",
       "      <td>Twitter for iPhone</td>\n",
       "      <td>median household income is down for the middle...</td>\n",
       "      <td>2016-07-28 20:56:09</td>\n",
       "      <td>2016-07-28 16:56:09-04:00</td>\n",
       "      <td>median household income is down for the middle...</td>\n",
       "      <td>0.0</td>\n",
       "    </tr>\n",
       "    <tr>\n",
       "      <th>758761945910669312</th>\n",
       "      <td>16308</td>\n",
       "      <td>Twitter for iPhone</td>\n",
       "      <td>a vote for clinton-kaine is a vote for tpp, na...</td>\n",
       "      <td>2016-07-28 20:31:59</td>\n",
       "      <td>2016-07-28 16:31:59-04:00</td>\n",
       "      <td>a vote for clinton kaine is a vote for tpp  na...</td>\n",
       "      <td>0.0</td>\n",
       "    </tr>\n",
       "    <tr>\n",
       "      <th>758761521317023744</th>\n",
       "      <td>3588</td>\n",
       "      <td>Twitter for iPhone</td>\n",
       "      <td>america's future\\nhttps://t.co/xymia0az7x</td>\n",
       "      <td>2016-07-28 20:30:18</td>\n",
       "      <td>2016-07-28 16:30:18-04:00</td>\n",
       "      <td>america s future\\nhttps   t co xymia0az7x</td>\n",
       "      <td>0.0</td>\n",
       "    </tr>\n",
       "    <tr>\n",
       "      <th>758732782348623874</th>\n",
       "      <td>4500</td>\n",
       "      <td>Twitter Web Client</td>\n",
       "      <td>bernie caved! https://t.co/xtcona8cw1</td>\n",
       "      <td>2016-07-28 18:36:06</td>\n",
       "      <td>2016-07-28 14:36:06-04:00</td>\n",
       "      <td>bernie caved  https   t co xtcona8cw1</td>\n",
       "      <td>0.0</td>\n",
       "    </tr>\n",
       "    <tr>\n",
       "      <th>758731880183193601</th>\n",
       "      <td>6239</td>\n",
       "      <td>Twitter for Android</td>\n",
       "      <td>\"@lallyray: poll: donald trump sees 17-point p...</td>\n",
       "      <td>2016-07-28 18:32:31</td>\n",
       "      <td>2016-07-28 14:32:31-04:00</td>\n",
       "      <td>lallyray  poll  donald trump sees 17 point p...</td>\n",
       "      <td>5.7</td>\n",
       "    </tr>\n",
       "  </tbody>\n",
       "</table>\n",
       "<p>3242 rows × 7 columns</p>\n",
       "</div>"
      ],
      "text/plain": [
       "                    retweet_count               source  \\\n",
       "912771708544802823            829   Twitter for iPhone   \n",
       "912711807709667331           3956   Twitter for iPhone   \n",
       "912670906828443648           4083   Twitter for iPhone   \n",
       "912664574461120512          13407   Twitter for iPhone   \n",
       "912651215997202432           9860   Twitter for iPhone   \n",
       "912636538156146688           8789   Twitter for iPhone   \n",
       "912631781098221568           4314   Twitter for iPhone   \n",
       "912629775629418501          11730   Twitter for iPhone   \n",
       "912626731357540353          16992   Twitter for iPhone   \n",
       "912624892239077376          13958   Twitter for iPhone   \n",
       "912494675206053888           7179   Twitter for iPhone   \n",
       "912487929783754755          24067         Media Studio   \n",
       "912481556127780865           7569   Twitter for iPhone   \n",
       "912479500511965184           8298   Twitter for iPhone   \n",
       "912478274508423168          12185   Twitter for iPhone   \n",
       "912443924979077120          24756   Twitter for iPhone   \n",
       "912443607084404736          20683   Twitter for iPhone   \n",
       "912443217227976704          16153   Twitter for iPhone   \n",
       "912302339360542720          20660   Twitter for iPhone   \n",
       "912301271817838593          70411   Twitter for iPhone   \n",
       "912281550712135680          13690   Twitter for iPhone   \n",
       "912280282224525312          53663   Twitter for iPhone   \n",
       "912278438127525888          23899   Twitter for iPhone   \n",
       "912276850793213952          35045   Twitter for iPhone   \n",
       "912101775221706752          22697   Twitter for iPhone   \n",
       "912080538755846144          39728   Twitter for iPhone   \n",
       "912079629648883712          12362   Twitter for iPhone   \n",
       "912037003923005440          52097   Twitter for iPhone   \n",
       "912032583466340353          22065   Twitter for iPhone   \n",
       "912032094687252485          19941   Twitter for iPhone   \n",
       "...                           ...                  ...   \n",
       "759071976182861824           9975  Twitter for Android   \n",
       "759070976181084160          12284   Twitter for iPhone   \n",
       "759070106546638849           7976  Twitter for Android   \n",
       "759064533814038528           6344   Twitter for iPhone   \n",
       "759029315006705664          16418  Twitter for Android   \n",
       "759027356434518016           5995  Twitter for Android   \n",
       "759025610249216000           7635  Twitter for Android   \n",
       "759024055123009536           6223  Twitter for Android   \n",
       "759021886055387136           9341  Twitter for Android   \n",
       "759017481633542145           3087   Twitter for iPhone   \n",
       "759014707277598720           8138  Twitter for Android   \n",
       "759013928315686917           3737   Twitter for iPhone   \n",
       "759013889761697794           9276  Twitter for Android   \n",
       "759008377577967616           8670  Twitter for Android   \n",
       "759005597899436032           5798  Twitter for Android   \n",
       "758874457142284288          17153   Twitter for iPhone   \n",
       "758873961425805312          12876   Twitter for iPhone   \n",
       "758873275044798464          16356   Twitter for iPhone   \n",
       "758872873234681860          16090   Twitter for iPhone   \n",
       "758872422028148740          14563   Twitter for iPhone   \n",
       "758871653547806724          19367   Twitter for iPhone   \n",
       "758851150175055874           7838   Twitter for iPhone   \n",
       "758802697763958784          29460   Twitter for iPhone   \n",
       "758778607489708032           6276   Twitter for iPhone   \n",
       "758771144140820481           4238   Twitter for iPhone   \n",
       "758768028595032064          10303   Twitter for iPhone   \n",
       "758761945910669312          16308   Twitter for iPhone   \n",
       "758761521317023744           3588   Twitter for iPhone   \n",
       "758732782348623874           4500   Twitter Web Client   \n",
       "758731880183193601           6239  Twitter for Android   \n",
       "\n",
       "                                                                 text  \\\n",
       "912771708544802823  rt @ricardorossello: briefed @potus @realdonal...   \n",
       "912711807709667331  honored to welcome republican and democrat mem...   \n",
       "912670906828443648  alabama, get out and vote for luther strange -...   \n",
       "912664574461120512  the nfl has all sorts of rules and regulations...   \n",
       "912651215997202432  thank you to carmen yulin cruz, the mayor of s...   \n",
       "912636538156146688  great interview on @foxandfriends with the par...   \n",
       "912631781098221568  luther strange has been shooting up in the ala...   \n",
       "912629775629418501  but while dallas dropped to its knees as a tea...   \n",
       "912626731357540353  the booing at the nfl football game last night...   \n",
       "912624892239077376  ratings for nfl football are way down except b...   \n",
       "912494675206053888  big election tomorrow in the great state of al...   \n",
       "912487929783754755  a few of the many clips of john mccain talking...   \n",
       "912481556127780865  ...owed to wall street and the banks which, sa...   \n",
       "912479500511965184  ...it's old electrical grid, which was in terr...   \n",
       "912478274508423168  texas &amp; florida are doing great but puerto...   \n",
       "912443924979077120  tremendous backlash against the nfl and its pl...   \n",
       "912443607084404736  general john kelly totally agrees w/ my stance...   \n",
       "912443217227976704  .@cnn is #fakenews. just reported cos (john ke...   \n",
       "912302339360542720  rt @jaymaga45: nflplayer pattillman joined u.s...   \n",
       "912301271817838593                                 #standforouranthem   \n",
       "912281550712135680  the white house never looked more beautiful th...   \n",
       "912280282224525312  the issue of kneeling has nothing to do with r...   \n",
       "912278438127525888  many people booed the players who kneeled yest...   \n",
       "912276850793213952  so proud of nascar and its supporters and fans...   \n",
       "912101775221706752  making america safe is my number one priority....   \n",
       "912080538755846144  sports fans should never condone players that ...   \n",
       "912079629648883712  alaska, arizona, maine and kentucky are big wi...   \n",
       "912037003923005440  courageous patriots have fought and died for o...   \n",
       "912032583466340353  rt @donnawr8: @realdonaldtrump i wonder what t...   \n",
       "912032094687252485  rt @donnawr8: @realdonaldtrump you can boycott...   \n",
       "...                                                               ...   \n",
       "759071976182861824  wow, my campaign is hearing from more and more...   \n",
       "759070976181084160  in hillary clinton's america - things get wors...   \n",
       "759070106546638849  the dishonest media didn't mention that bernie...   \n",
       "759064533814038528  thank you! \\n\\nfacebook: https://t.co/nmlrjqza...   \n",
       "759029315006705664  crooked hillary said that i \"couldn't handle t...   \n",
       "759027356434518016  if michael bloomberg ran again for mayor of ne...   \n",
       "759025610249216000  \"little\" michael bloomberg, who never had the ...   \n",
       "759024055123009536  general john allen, who i never met but spoke ...   \n",
       "759021886055387136  crooked hillary clinton mentioned me 22 times ...   \n",
       "759017481633542145  join @mike_pence at the university of northwes...   \n",
       "759014707277598720  \"@anncoulter: \"i believe in science\" dem code ...   \n",
       "759013928315686917      campaign statement: \\nhttps://t.co/rnw3ed2ifr   \n",
       "759013889761697794  two policemen just shot in san diego, one dead...   \n",
       "759008377577967616  crooked hillary clinton made up facts about me...   \n",
       "759005597899436032  the media coverage this morning of the very av...   \n",
       "758874457142284288  no one has worse judgement than hillary clinto...   \n",
       "758873961425805312  hillary's wars in the middle east have unleash...   \n",
       "758873275044798464  hillary's vision is a borderless world where w...   \n",
       "758872873234681860  hillary will never reform wall street. she is ...   \n",
       "758872422028148740  our way of life is under threat by radical isl...   \n",
       "758871653547806724  hillary's refusal to mention radical islam, as...   \n",
       "758851150175055874  departing now - thank you cedar rapids, iowa. ...   \n",
       "758802697763958784            #crookedhillary https://t.co/jexfno6e3s   \n",
       "758778607489708032  \"dems warn not to underestimate trump's potent...   \n",
       "758771144140820481  great to be back in iowa! #tbt with @jerryjrfa...   \n",
       "758768028595032064  median household income is down for the middle...   \n",
       "758761945910669312  a vote for clinton-kaine is a vote for tpp, na...   \n",
       "758761521317023744          america's future\\nhttps://t.co/xymia0az7x   \n",
       "758732782348623874              bernie caved! https://t.co/xtcona8cw1   \n",
       "758731880183193601  \"@lallyray: poll: donald trump sees 17-point p...   \n",
       "\n",
       "                                  time                  est_time  \\\n",
       "912771708544802823 2017-09-26 20:11:48 2017-09-26 16:11:48-04:00   \n",
       "912711807709667331 2017-09-26 16:13:46 2017-09-26 12:13:46-04:00   \n",
       "912670906828443648 2017-09-26 13:31:15 2017-09-26 09:31:15-04:00   \n",
       "912664574461120512 2017-09-26 13:06:05 2017-09-26 09:06:05-04:00   \n",
       "912651215997202432 2017-09-26 12:13:00 2017-09-26 08:13:00-04:00   \n",
       "912636538156146688 2017-09-26 11:14:41 2017-09-26 07:14:41-04:00   \n",
       "912631781098221568 2017-09-26 10:55:47 2017-09-26 06:55:47-04:00   \n",
       "912629775629418501 2017-09-26 10:47:49 2017-09-26 06:47:49-04:00   \n",
       "912626731357540353 2017-09-26 10:35:43 2017-09-26 06:35:43-04:00   \n",
       "912624892239077376 2017-09-26 10:28:24 2017-09-26 06:28:24-04:00   \n",
       "912494675206053888 2017-09-26 01:50:58 2017-09-25 21:50:58-04:00   \n",
       "912487929783754755 2017-09-26 01:24:10 2017-09-25 21:24:10-04:00   \n",
       "912481556127780865 2017-09-26 00:58:50 2017-09-25 20:58:50-04:00   \n",
       "912479500511965184 2017-09-26 00:50:40 2017-09-25 20:50:40-04:00   \n",
       "912478274508423168 2017-09-26 00:45:48 2017-09-25 20:45:48-04:00   \n",
       "912443924979077120 2017-09-25 22:29:18 2017-09-25 18:29:18-04:00   \n",
       "912443607084404736 2017-09-25 22:28:02 2017-09-25 18:28:02-04:00   \n",
       "912443217227976704 2017-09-25 22:26:30 2017-09-25 18:26:30-04:00   \n",
       "912302339360542720 2017-09-25 13:06:42 2017-09-25 09:06:42-04:00   \n",
       "912301271817838593 2017-09-25 13:02:27 2017-09-25 09:02:27-04:00   \n",
       "912281550712135680 2017-09-25 11:44:05 2017-09-25 07:44:05-04:00   \n",
       "912280282224525312 2017-09-25 11:39:03 2017-09-25 07:39:03-04:00   \n",
       "912278438127525888 2017-09-25 11:31:43 2017-09-25 07:31:43-04:00   \n",
       "912276850793213952 2017-09-25 11:25:25 2017-09-25 07:25:25-04:00   \n",
       "912101775221706752 2017-09-24 23:49:43 2017-09-24 19:49:43-04:00   \n",
       "912080538755846144 2017-09-24 22:25:20 2017-09-24 18:25:20-04:00   \n",
       "912079629648883712 2017-09-24 22:21:43 2017-09-24 18:21:43-04:00   \n",
       "912037003923005440 2017-09-24 19:32:21 2017-09-24 15:32:21-04:00   \n",
       "912032583466340353 2017-09-24 19:14:47 2017-09-24 15:14:47-04:00   \n",
       "912032094687252485 2017-09-24 19:12:50 2017-09-24 15:12:50-04:00   \n",
       "...                                ...                       ...   \n",
       "759071976182861824 2016-07-29 17:03:56 2016-07-29 13:03:56-04:00   \n",
       "759070976181084160 2016-07-29 16:59:58 2016-07-29 12:59:58-04:00   \n",
       "759070106546638849 2016-07-29 16:56:30 2016-07-29 12:56:30-04:00   \n",
       "759064533814038528 2016-07-29 16:34:22 2016-07-29 12:34:22-04:00   \n",
       "759029315006705664 2016-07-29 14:14:25 2016-07-29 10:14:25-04:00   \n",
       "759027356434518016 2016-07-29 14:06:38 2016-07-29 10:06:38-04:00   \n",
       "759025610249216000 2016-07-29 13:59:42 2016-07-29 09:59:42-04:00   \n",
       "759024055123009536 2016-07-29 13:53:31 2016-07-29 09:53:31-04:00   \n",
       "759021886055387136 2016-07-29 13:44:54 2016-07-29 09:44:54-04:00   \n",
       "759017481633542145 2016-07-29 13:27:24 2016-07-29 09:27:24-04:00   \n",
       "759014707277598720 2016-07-29 13:16:22 2016-07-29 09:16:22-04:00   \n",
       "759013928315686917 2016-07-29 13:13:16 2016-07-29 09:13:16-04:00   \n",
       "759013889761697794 2016-07-29 13:13:07 2016-07-29 09:13:07-04:00   \n",
       "759008377577967616 2016-07-29 12:51:13 2016-07-29 08:51:13-04:00   \n",
       "759005597899436032 2016-07-29 12:40:10 2016-07-29 08:40:10-04:00   \n",
       "758874457142284288 2016-07-29 03:59:04 2016-07-28 23:59:04-04:00   \n",
       "758873961425805312 2016-07-29 03:57:06 2016-07-28 23:57:06-04:00   \n",
       "758873275044798464 2016-07-29 03:54:22 2016-07-28 23:54:22-04:00   \n",
       "758872873234681860 2016-07-29 03:52:46 2016-07-28 23:52:46-04:00   \n",
       "758872422028148740 2016-07-29 03:50:59 2016-07-28 23:50:59-04:00   \n",
       "758871653547806724 2016-07-29 03:47:56 2016-07-28 23:47:56-04:00   \n",
       "758851150175055874 2016-07-29 02:26:27 2016-07-28 22:26:27-04:00   \n",
       "758802697763958784 2016-07-28 23:13:55 2016-07-28 19:13:55-04:00   \n",
       "758778607489708032 2016-07-28 21:38:12 2016-07-28 17:38:12-04:00   \n",
       "758771144140820481 2016-07-28 21:08:32 2016-07-28 17:08:32-04:00   \n",
       "758768028595032064 2016-07-28 20:56:09 2016-07-28 16:56:09-04:00   \n",
       "758761945910669312 2016-07-28 20:31:59 2016-07-28 16:31:59-04:00   \n",
       "758761521317023744 2016-07-28 20:30:18 2016-07-28 16:30:18-04:00   \n",
       "758732782348623874 2016-07-28 18:36:06 2016-07-28 14:36:06-04:00   \n",
       "758731880183193601 2016-07-28 18:32:31 2016-07-28 14:32:31-04:00   \n",
       "\n",
       "                                                              no_punc  \\\n",
       "912771708544802823  rt  ricardorossello  briefed  potus  realdonal...   \n",
       "912711807709667331  honored to welcome republican and democrat mem...   \n",
       "912670906828443648  alabama  get out and vote for luther strange  ...   \n",
       "912664574461120512  the nfl has all sorts of rules and regulations...   \n",
       "912651215997202432  thank you to carmen yulin cruz  the mayor of s...   \n",
       "912636538156146688  great interview on  foxandfriends with the par...   \n",
       "912631781098221568  luther strange has been shooting up in the ala...   \n",
       "912629775629418501  but while dallas dropped to its knees as a tea...   \n",
       "912626731357540353  the booing at the nfl football game last night...   \n",
       "912624892239077376  ratings for nfl football are way down except b...   \n",
       "912494675206053888  big election tomorrow in the great state of al...   \n",
       "912487929783754755  a few of the many clips of john mccain talking...   \n",
       "912481556127780865     owed to wall street and the banks which  sa...   \n",
       "912479500511965184     it s old electrical grid  which was in terr...   \n",
       "912478274508423168  texas  amp  florida are doing great but puerto...   \n",
       "912443924979077120  tremendous backlash against the nfl and its pl...   \n",
       "912443607084404736  general john kelly totally agrees w  my stance...   \n",
       "912443217227976704    cnn is  fakenews  just reported cos  john ke...   \n",
       "912302339360542720  rt  jaymaga45  nflplayer pattillman joined u s...   \n",
       "912301271817838593                                  standforouranthem   \n",
       "912281550712135680  the white house never looked more beautiful th...   \n",
       "912280282224525312  the issue of kneeling has nothing to do with r...   \n",
       "912278438127525888  many people booed the players who kneeled yest...   \n",
       "912276850793213952  so proud of nascar and its supporters and fans...   \n",
       "912101775221706752  making america safe is my number one priority ...   \n",
       "912080538755846144  sports fans should never condone players that ...   \n",
       "912079629648883712  alaska  arizona  maine and kentucky are big wi...   \n",
       "912037003923005440  courageous patriots have fought and died for o...   \n",
       "912032583466340353  rt  donnawr8   realdonaldtrump i wonder what t...   \n",
       "912032094687252485  rt  donnawr8   realdonaldtrump you can boycott...   \n",
       "...                                                               ...   \n",
       "759071976182861824  wow  my campaign is hearing from more and more...   \n",
       "759070976181084160  in hillary clinton s america   things get wors...   \n",
       "759070106546638849  the dishonest media didn t mention that bernie...   \n",
       "759064533814038528  thank you  \\n\\nfacebook  https   t co nmlrjqza...   \n",
       "759029315006705664  crooked hillary said that i  couldn t handle t...   \n",
       "759027356434518016  if michael bloomberg ran again for mayor of ne...   \n",
       "759025610249216000   little  michael bloomberg  who never had the ...   \n",
       "759024055123009536  general john allen  who i never met but spoke ...   \n",
       "759021886055387136  crooked hillary clinton mentioned me 22 times ...   \n",
       "759017481633542145  join  mike_pence at the university of northwes...   \n",
       "759014707277598720    anncoulter   i believe in science  dem code ...   \n",
       "759013928315686917      campaign statement  \\nhttps   t co rnw3ed2ifr   \n",
       "759013889761697794  two policemen just shot in san diego  one dead...   \n",
       "759008377577967616  crooked hillary clinton made up facts about me...   \n",
       "759005597899436032  the media coverage this morning of the very av...   \n",
       "758874457142284288  no one has worse judgement than hillary clinto...   \n",
       "758873961425805312  hillary s wars in the middle east have unleash...   \n",
       "758873275044798464  hillary s vision is a borderless world where w...   \n",
       "758872873234681860  hillary will never reform wall street  she is ...   \n",
       "758872422028148740  our way of life is under threat by radical isl...   \n",
       "758871653547806724  hillary s refusal to mention radical islam  as...   \n",
       "758851150175055874  departing now   thank you cedar rapids  iowa  ...   \n",
       "758802697763958784             crookedhillary https   t co jexfno6e3s   \n",
       "758778607489708032   dems warn not to underestimate trump s potent...   \n",
       "758771144140820481  great to be back in iowa   tbt with  jerryjrfa...   \n",
       "758768028595032064  median household income is down for the middle...   \n",
       "758761945910669312  a vote for clinton kaine is a vote for tpp  na...   \n",
       "758761521317023744          america s future\\nhttps   t co xymia0az7x   \n",
       "758732782348623874              bernie caved  https   t co xtcona8cw1   \n",
       "758731880183193601    lallyray  poll  donald trump sees 17 point p...   \n",
       "\n",
       "                    polarity  \n",
       "912771708544802823       3.5  \n",
       "912711807709667331       4.8  \n",
       "912670906828443648      -0.8  \n",
       "912664574461120512       0.0  \n",
       "912651215997202432       3.5  \n",
       "912636538156146688       0.5  \n",
       "912631781098221568       0.5  \n",
       "912629775629418501       5.0  \n",
       "912626731357540353       0.4  \n",
       "912624892239077376      -2.0  \n",
       "912494675206053888      -0.7  \n",
       "912487929783754755       2.2  \n",
       "912481556127780865       0.1  \n",
       "912479500511965184      -7.3  \n",
       "912478274508423168      -4.3  \n",
       "912443924979077120      -1.8  \n",
       "912443607084404736       3.9  \n",
       "912443217227976704       0.0  \n",
       "912302339360542720      -1.6  \n",
       "912301271817838593       0.0  \n",
       "912281550712135680       2.5  \n",
       "912280282224525312       4.2  \n",
       "912278438127525888       1.6  \n",
       "912276850793213952       8.3  \n",
       "912101775221706752       5.2  \n",
       "912080538755846144       2.1  \n",
       "912079629648883712       2.1  \n",
       "912037003923005440       9.0  \n",
       "912032583466340353       2.4  \n",
       "912032094687252485      -2.6  \n",
       "...                      ...  \n",
       "759071976182861824       6.4  \n",
       "759070976181084160      -2.1  \n",
       "759070106546638849      -4.4  \n",
       "759064533814038528       1.5  \n",
       "759029315006705664      -2.0  \n",
       "759027356434518016       0.0  \n",
       "759025610249216000      -3.1  \n",
       "759024055123009536      -8.5  \n",
       "759021886055387136      -3.1  \n",
       "759017481633542145       1.2  \n",
       "759014707277598720       0.0  \n",
       "759013928315686917       0.0  \n",
       "759013889761697794      -5.1  \n",
       "759008377577967616      -3.4  \n",
       "759005597899436032      -0.9  \n",
       "758874457142284288      -5.1  \n",
       "758873961425805312      -8.9  \n",
       "758873275044798464      -0.8  \n",
       "758872873234681860       0.0  \n",
       "758872422028148740      -2.4  \n",
       "758871653547806724       1.3  \n",
       "758851150175055874       1.5  \n",
       "758802697763958784       0.0  \n",
       "758778607489708032       1.2  \n",
       "758771144140820481       3.1  \n",
       "758768028595032064       0.0  \n",
       "758761945910669312       0.0  \n",
       "758761521317023744       0.0  \n",
       "758732782348623874       0.0  \n",
       "758731880183193601       5.7  \n",
       "\n",
       "[3242 rows x 7 columns]"
      ]
     },
     "execution_count": 47,
     "metadata": {},
     "output_type": "execute_result"
    }
   ],
   "source": [
    "senti = trump.join(polarities)\n",
    "senti"
   ]
  },
  {
   "cell_type": "markdown",
   "metadata": {},
   "source": [
    "Now we have a measure of the sentiment of each of his tweets! Note that this calculation is rather basic; you can read over the VADER readme to understand a more robust sentiment analysis.\n",
    "\n",
    "Now, run the cells below to see the most positive and most negative tweets from Trump in your dataset:"
   ]
  },
  {
   "cell_type": "code",
   "execution_count": 49,
   "metadata": {},
   "outputs": [
    {
     "name": "stdout",
     "output_type": "stream",
     "text": [
      "Most negative tweets:\n",
      "   democrat jon ossoff would be a disaster in congress. very weak on crime and illegal immigration, bad for jobs and wants higher taxes. say no\n",
      "   \"@fiiibuster: @jeffzeleny pathetic - you have no sufficient evidence that donald trump did not suffer from voter fraud, shame! bad reporter.\n",
      "   rt @seanspicer: .@timkaine wants to tough on crime - fails to talk about defending rapists and murders #vpdebate\n",
      "   the fake news media has never been so wrong or so dirty. purposely incorrect stories and phony sources to meet their agenda of hate. sad!\n",
      "   the failing new york times foiled u.s. attempt to kill the single most wanted terrorist,al-baghdadi.their sick agenda over national security\n"
     ]
    }
   ],
   "source": [
    "print('Most negative tweets:')\n",
    "for t in senti.sort_values('polarity').head()['text']:\n",
    "    print('  ', t)"
   ]
  },
  {
   "cell_type": "code",
   "execution_count": 50,
   "metadata": {
    "scrolled": true
   },
   "outputs": [
    {
     "name": "stdout",
     "output_type": "stream",
     "text": [
      "Most positive tweets:\n",
      "   thank you to linda bean of l.l.bean for your great support and courage. people will support you even more now. buy l.l.bean. @lbperfectmaine\n",
      "   rt @ivankatrump: 2016 has been one of the most eventful and exciting years of my life. i wish you peace, joy, love and laughter. happy new…\n",
      "   \"@pauladuvall2: we're all enjoying you, as well, mr. t.! you've inspired hope and a positive spirit throughout america! god bless you!\" nice\n",
      "   great honor to be endorsed by popular &amp; successful @gov_gilmore of va. a state that i very much want to win-thx jim! https://t.co/x4y1tafhvn\n",
      "   hope you like my nomination of judge neil gorsuch for the united states supreme court. he is a good and brilliant man, respected by all.\n"
     ]
    }
   ],
   "source": [
    "print('Most positive tweets:')\n",
    "for t in senti.sort_values('polarity', ascending=False).head()['text']:\n",
    "    print('  ', t)"
   ]
  },
  {
   "cell_type": "markdown",
   "metadata": {},
   "source": [
    "---\n",
    "<br></br>\n",
    "\n",
    "## Polarity Visualization of Trump's Tweets\n",
    "\n",
    "I used seaborn to create a `distplot` of the sentiments."
   ]
  },
  {
   "cell_type": "code",
   "execution_count": 51,
   "metadata": {
    "tags": [
     "student"
    ]
   },
   "outputs": [
    {
     "data": {
      "text/plain": [
       "<matplotlib.axes._subplots.AxesSubplot at 0x7f581c618ac8>"
      ]
     },
     "execution_count": 51,
     "metadata": {},
     "output_type": "execute_result"
    },
    {
     "data": {
      "image/png": "[encoded data removed]",
      "text/plain": [
       "<matplotlib.figure.Figure at 0x7f581c618320>"
      ]
     },
     "metadata": {},
     "output_type": "display_data"
    }
   ],
   "source": [
    "### make your plot here\n",
    "sns.distplot(senti['polarity'])"
   ]
  },
  {
   "cell_type": "markdown",
   "metadata": {},
   "source": [
    "---\n",
    "<br></br>\n",
    "\n",
    "## Polarity Over Time\n",
    "Now I created a line plot of the sentiment of Trump's tweets over time and plotted the mean sentiment of each month of his tweets over time. Then, plot vertical lines corresponding to his election and inauguration dates.\n"
   ]
  },
  {
   "cell_type": "code",
   "execution_count": 52,
   "metadata": {},
   "outputs": [
    {
     "data": {
      "text/plain": [
       "<matplotlib.text.Text at 0x7f581c4709b0>"
      ]
     },
     "execution_count": 52,
     "metadata": {},
     "output_type": "execute_result"
    },
    {
     "data": {
      "image/png": "[encoded data removed]",
      "text/plain": [
       "<matplotlib.figure.Figure at 0x7f581c91fba8>"
      ]
     },
     "metadata": {},
     "output_type": "display_data"
    }
   ],
   "source": [
    "import warnings\n",
    "warnings.simplefilter(action='ignore', category=FutureWarning)\n",
    "(senti.loc[:, ['est_time', 'polarity']].set_index('est_time').resample('M')).plot()\n",
    "b = plt.axvline(pd.to_datetime('2016-11-08'), color = 'r', linestyle = 'dashed')\n",
    "c = plt.axvline(pd.to_datetime('2017-01-21'), color = 'r', linestyle = 'dashed')\n",
    "plt.xlabel('time')"
   ]
  },
  {
   "cell_type": "markdown",
   "metadata": {
    "tags": [
     "student",
     "written"
    ]
   },
   "source": [
    "In general, his positive sentiment seems to have increased after being elected as president. Its interesting to note the sharp dip in sentiment right after being elected, as he was probably negatively responding to all the criticism he was receiving after being voted in. Its also interesting to note how his sentiment rose before the election, as he went from being labelled as having no chance of winning the election to actually winning."
   ]
  },
  {
   "cell_type": "markdown",
   "metadata": {},
   "source": [
    "## Hashtags\n",
    "\n",
    "Let's return now to the problem of determining which tweets were from Trump and which were from his aides. As a reminder, most analysts agree that tweets that came from an Android device were likely from Trump himself, not one of his aides ([example](http://didtrumptweetit.com/machine-learning-tweet-prediction/)).\n",
    "\n",
    "In addition, browsing his Twitter shows that some tweets that sound more \"official\" often have a hashtag, link, or a picture:\n",
    "\n",
    "![](aide.png)\n",
    "\n",
    "Whereas tweets that sound like Trump himself usually don't have a hashtag, link, or picture:\n",
    "\n",
    "![](trump.png)\n",
    "\n",
    "So, we can hypothesize that if a tweet has a hashtag, link, or picture it came from one of Trump's aides, not Trump himself. Let's see if this idea is backed up by the data."
   ]
  },
  {
   "cell_type": "markdown",
   "metadata": {},
   "source": [
    "---\n",
    "<br></br>\n",
    "\n",
    "## Checking for Retweets, Hashtags, and Links\n",
    "\n",
    "I created a DF called `hash_or_link` that contains only the rows from the `senti` table where the tweet isn't a retweet and contains a hashtag, link, or picture. We say that:\n",
    "\n",
    "- A tweet is a retweet if it has the string 'rt' anywhere in the tweet if it is preceeded and followed by a non-word character (the start and end of the string count as non-word characters).\n",
    "- A tweet has a hashtag if it has the character '#' anywhere in the tweet followed by a letter.\n",
    "- A tweet contains a link or a picture if it has the word `http` anywhere in the tweet\n",
    "\n",
    "(You can check out Trump's Twitter for why these criteria are true)."
   ]
  },
  {
   "cell_type": "code",
   "execution_count": 54,
   "metadata": {
    "tags": [
     "student"
    ]
   },
   "outputs": [
    {
     "data": {
      "text/html": [
       "<div>\n",
       "<table border=\"1\" class=\"dataframe\">\n",
       "  <thead>\n",
       "    <tr style=\"text-align: right;\">\n",
       "      <th></th>\n",
       "      <th>retweet_count</th>\n",
       "      <th>source</th>\n",
       "      <th>text</th>\n",
       "      <th>time</th>\n",
       "      <th>est_time</th>\n",
       "      <th>no_punc</th>\n",
       "      <th>polarity</th>\n",
       "    </tr>\n",
       "  </thead>\n",
       "  <tbody>\n",
       "    <tr>\n",
       "      <th>912711807709667331</th>\n",
       "      <td>3956</td>\n",
       "      <td>Twitter for iPhone</td>\n",
       "      <td>honored to welcome republican and democrat mem...</td>\n",
       "      <td>2017-09-26 16:13:46</td>\n",
       "      <td>2017-09-26 12:13:46-04:00</td>\n",
       "      <td>honored to welcome republican and democrat mem...</td>\n",
       "      <td>4.8</td>\n",
       "    </tr>\n",
       "    <tr>\n",
       "      <th>912670906828443648</th>\n",
       "      <td>4083</td>\n",
       "      <td>Twitter for iPhone</td>\n",
       "      <td>alabama, get out and vote for luther strange -...</td>\n",
       "      <td>2017-09-26 13:31:15</td>\n",
       "      <td>2017-09-26 09:31:15-04:00</td>\n",
       "      <td>alabama  get out and vote for luther strange  ...</td>\n",
       "      <td>-0.8</td>\n",
       "    </tr>\n",
       "    <tr>\n",
       "      <th>912487929783754755</th>\n",
       "      <td>24067</td>\n",
       "      <td>Media Studio</td>\n",
       "      <td>a few of the many clips of john mccain talking...</td>\n",
       "      <td>2017-09-26 01:24:10</td>\n",
       "      <td>2017-09-25 21:24:10-04:00</td>\n",
       "      <td>a few of the many clips of john mccain talking...</td>\n",
       "      <td>2.2</td>\n",
       "    </tr>\n",
       "    <tr>\n",
       "      <th>912481556127780865</th>\n",
       "      <td>7569</td>\n",
       "      <td>Twitter for iPhone</td>\n",
       "      <td>...owed to wall street and the banks which, sa...</td>\n",
       "      <td>2017-09-26 00:58:50</td>\n",
       "      <td>2017-09-25 20:58:50-04:00</td>\n",
       "      <td>owed to wall street and the banks which  sa...</td>\n",
       "      <td>0.1</td>\n",
       "    </tr>\n",
       "    <tr>\n",
       "      <th>912443924979077120</th>\n",
       "      <td>24756</td>\n",
       "      <td>Twitter for iPhone</td>\n",
       "      <td>tremendous backlash against the nfl and its pl...</td>\n",
       "      <td>2017-09-25 22:29:18</td>\n",
       "      <td>2017-09-25 18:29:18-04:00</td>\n",
       "      <td>tremendous backlash against the nfl and its pl...</td>\n",
       "      <td>-1.8</td>\n",
       "    </tr>\n",
       "  </tbody>\n",
       "</table>\n",
       "</div>"
      ],
      "text/plain": [
       "                    retweet_count              source  \\\n",
       "912711807709667331           3956  Twitter for iPhone   \n",
       "912670906828443648           4083  Twitter for iPhone   \n",
       "912487929783754755          24067        Media Studio   \n",
       "912481556127780865           7569  Twitter for iPhone   \n",
       "912443924979077120          24756  Twitter for iPhone   \n",
       "\n",
       "                                                                 text  \\\n",
       "912711807709667331  honored to welcome republican and democrat mem...   \n",
       "912670906828443648  alabama, get out and vote for luther strange -...   \n",
       "912487929783754755  a few of the many clips of john mccain talking...   \n",
       "912481556127780865  ...owed to wall street and the banks which, sa...   \n",
       "912443924979077120  tremendous backlash against the nfl and its pl...   \n",
       "\n",
       "                                  time                  est_time  \\\n",
       "912711807709667331 2017-09-26 16:13:46 2017-09-26 12:13:46-04:00   \n",
       "912670906828443648 2017-09-26 13:31:15 2017-09-26 09:31:15-04:00   \n",
       "912487929783754755 2017-09-26 01:24:10 2017-09-25 21:24:10-04:00   \n",
       "912481556127780865 2017-09-26 00:58:50 2017-09-25 20:58:50-04:00   \n",
       "912443924979077120 2017-09-25 22:29:18 2017-09-25 18:29:18-04:00   \n",
       "\n",
       "                                                              no_punc  \\\n",
       "912711807709667331  honored to welcome republican and democrat mem...   \n",
       "912670906828443648  alabama  get out and vote for luther strange  ...   \n",
       "912487929783754755  a few of the many clips of john mccain talking...   \n",
       "912481556127780865     owed to wall street and the banks which  sa...   \n",
       "912443924979077120  tremendous backlash against the nfl and its pl...   \n",
       "\n",
       "                    polarity  \n",
       "912711807709667331       4.8  \n",
       "912670906828443648      -0.8  \n",
       "912487929783754755       2.2  \n",
       "912481556127780865       0.1  \n",
       "912443924979077120      -1.8  "
      ]
     },
     "execution_count": 54,
     "metadata": {},
     "output_type": "execute_result"
    }
   ],
   "source": [
    "# You must save your regex for retweets in this variable\n",
    "rt_re = r'\\Wrt\\W|\\brt\\W|\\Wrt\\b'\n",
    "# You must save your regex for hashtags, links, or pictures in this variable\n",
    "hash_re = r'#\\w|http'\n",
    "hash_or_link = senti[senti['text'].str.contains(hash_re)]\n",
    "hash_or_link = hash_or_link[~hash_or_link['text'].str.contains(rt_re)]\n",
    "hash_or_link.head()"
   ]
  },
  {
   "cell_type": "code",
   "execution_count": 55,
   "metadata": {},
   "outputs": [
    {
     "data": {
      "text/plain": [
       "1329"
      ]
     },
     "execution_count": 55,
     "metadata": {},
     "output_type": "execute_result"
    }
   ],
   "source": [
    "len(hash_or_link)"
   ]
  },
  {
   "cell_type": "code",
   "execution_count": 57,
   "metadata": {},
   "outputs": [
    {
     "data": {
      "text/plain": [
       "912771708544802823    rt @ricardorossello: briefed @potus @realdonal...\n",
       "912711807709667331    honored to welcome republican and democrat mem...\n",
       "912670906828443648    alabama, get out and vote for luther strange -...\n",
       "912664574461120512    the nfl has all sorts of rules and regulations...\n",
       "912651215997202432    thank you to carmen yulin cruz, the mayor of s...\n",
       "Name: text, dtype: object"
      ]
     },
     "execution_count": 57,
     "metadata": {},
     "output_type": "execute_result"
    }
   ],
   "source": [
    "trump['text'].head()"
   ]
  },
  {
   "cell_type": "markdown",
   "metadata": {},
   "source": [
    "--- \n",
    "<br></br>\n",
    "\n",
    "## Question 6b\n",
    "\n",
    "Create a line plot of the number of tweets containing a hashtag, link, or picture from each tweet device.\n",
    "\n",
    "If a device doesn't have at least 20 tweets in a particular year, don't include the tweets from that device for that year. (Eg. if there are 100 tweets from Twitter Ads in 2016 but only 10 in 2017, plot the counts for Twitter Ads in 2016 but not 2017.)\n",
    "\n",
    "Aggregate the counts for each week period. Your final plot should look like:\n",
    "\n",
    "![](hashtag_by_device.png)\n",
    "\n",
    "*Hint:* If you can get a table in the following format, you can just call `.plot()` on it to generate the plot.\n",
    "\n",
    "<table border=\"1\" class=\"dataframe\">\n",
    "  <thead>\n",
    "    <tr style=\"text-align: right;\">\n",
    "      <th>source</th>\n",
    "      <th>Media Studio</th>\n",
    "      <th>Twitter Ads</th>\n",
    "      <th>Twitter Web Client</th>\n",
    "      <th>Twitter for Android</th>\n",
    "      <th>Twitter for iPhone</th>\n",
    "    </tr>\n",
    "    <tr>\n",
    "      <th>time</th>\n",
    "      <th></th>\n",
    "      <th></th>\n",
    "      <th></th>\n",
    "      <th></th>\n",
    "      <th></th>\n",
    "    </tr>\n",
    "  </thead>\n",
    "  <tbody>\n",
    "    <tr>\n",
    "      <th>2016-07-24</th>\n",
    "      <td>NaN</td>\n",
    "      <td>NaN</td>\n",
    "      <td>4.0</td>\n",
    "      <td>10.0</td>\n",
    "      <td>14.0</td>\n",
    "    </tr>\n",
    "    <tr>\n",
    "      <th>2016-08-07</th>\n",
    "      <td>NaN</td>\n",
    "      <td>NaN</td>\n",
    "      <td>5.0</td>\n",
    "      <td>15.0</td>\n",
    "      <td>91.0</td>\n",
    "    </tr>\n",
    "    <tr>\n",
    "      <th>2016-08-21</th>\n",
    "      <td>NaN</td>\n",
    "      <td>NaN</td>\n",
    "      <td>9.0</td>\n",
    "      <td>10.0</td>\n",
    "      <td>44.0</td>\n",
    "    </tr>\n",
    "    <tr>\n",
    "      <th>2016-09-04</th>\n",
    "      <td>NaN</td>\n",
    "      <td>NaN</td>\n",
    "      <td>0.0</td>\n",
    "      <td>20.0</td>\n",
    "      <td>51.0</td>\n",
    "    </tr>\n",
    "    <tr>\n",
    "      <th>2016-09-18</th>\n",
    "      <td>NaN</td>\n",
    "      <td>NaN</td>\n",
    "      <td>1.0</td>\n",
    "      <td>12.0</td>\n",
    "      <td>59.0</td>\n",
    "    </tr>\n",
    "  </tbody>\n",
    "</table>\n",
    "\n",
    "What conclusions can you draw from this plot? Does this plot allow us to say whether a tweet containing a hashtag/link/picture likely came from Trump himself? Write your takeaways in `hashtag_answer` variable."
   ]
  },
  {
   "cell_type": "code",
   "execution_count": 58,
   "metadata": {
    "tags": [
     "student",
     "written"
    ]
   },
   "outputs": [
    {
     "data": {
      "text/markdown": [
       "\n",
       "\n",
       "From the graph, we can see that while Trump used to post numerous tweets from a variety of different sources, recently\n",
       "he has only been Media Studio and Twitter for iPhone extensively to post tweets. Also, after becoming president, it seems\n",
       "that Trump has been tweeting less often, though he still tweets consistently. \n",
       "\n"
      ],
      "text/plain": [
       "<IPython.core.display.Markdown object>"
      ]
     },
     "metadata": {},
     "output_type": "display_data"
    },
    {
     "data": {
      "image/png": "[encoded data removed]",
      "text/plain": [
       "<matplotlib.figure.Figure at 0x7f581cb48898>"
      ]
     },
     "metadata": {},
     "output_type": "display_data"
    }
   ],
   "source": [
    "# Create your plot here...\n",
    "\n",
    "L = hash_or_link['year'] = hash_or_link['est_time'].apply(lambda x: x.year)\n",
    "L_filter = hash_or_link.groupby(['source', 'year']).filter(lambda x: len(x) > 20)\n",
    "(L_filter.loc[:,['est_time', 'source']].set_index('est_time').groupby('source')\n",
    "     .resample('W').size().unstack(level=0)).plot()\n",
    "plt.xlabel('Time')\n",
    "\n",
    "\n",
    "# ...then write your takeaways here.\n",
    "hashtag_answer = '''\n",
    "\n",
    "From the graph, we can see that while Trump used to post numerous tweets from a variety of different sources, recently\n",
    "he has only been Media Studio and Twitter for iPhone extensively to post tweets. Also, after becoming president, it seems\n",
    "that Trump has been tweeting less often, though he still tweets consistently. \n",
    "\n",
    "'''\n",
    "display(Markdown(hashtag_answer))"
   ]
  },
  {
   "cell_type": "markdown",
   "metadata": {},
   "source": [
    "--- \n",
    "<br></br>\n",
    "\n",
    "## Question 6c \n",
    "\n",
    "Now, let's see whether there's a difference in sentiment for tweets with hashtags and those without.\n",
    "\n",
    "Create a line plot of the sentiment of Trump's non-retweet tweets over time, taking the mean sentiment for every month. Plot one line for tweets with hashtags and one for tweets without. Then, draw two vertical lines for the election date and inauguration date. Draw a horizontal line for y=0. Your plot should look like:\n",
    "\n",
    "![](hash_senti.png)\n",
    "\n",
    "What do you notice about the plot? What conclusions can you draw? Write your answers in `hash_senti_answer`.\n",
    "\n",
    "Hint 1: You'll want to start use your `senti` table, not your `hash_or_link` table. Try adding a column to `senti` containing True if the tweet has a hashtag/link/picture.\n",
    "\n",
    "Hint 2: You shouldn't use your `no_punc` column. Think about why not."
   ]
  },
  {
   "cell_type": "code",
   "execution_count": 59,
   "metadata": {
    "tags": [
     "student",
     "written"
    ]
   },
   "outputs": [
    {
     "data": {
      "text/markdown": [
       "\n",
       "\n",
       "From this graph, Trump's tweets seem to be more positive when he his tweets do contain hashtags or links compared to when\n",
       "his tweets contain neither. It is also interesting to note how significantly the polarity of his tweets in general has increased since\n",
       "he has taken office after becoming president. \n",
       "\n"
      ],
      "text/plain": [
       "<IPython.core.display.Markdown object>"
      ]
     },
     "metadata": {},
     "output_type": "display_data"
    },
    {
     "data": {
      "image/png": "[encoded data removed]",
      "text/plain": [
       "<matplotlib.figure.Figure at 0x7f581c6bf8d0>"
      ]
     },
     "metadata": {},
     "output_type": "display_data"
    }
   ],
   "source": [
    "# Create your plot here...\n",
    "import warnings\n",
    "warnings.simplefilter(action='ignore', category=FutureWarning)\n",
    "senti['bool'] = senti['text'].str.contains(hash_re)\n",
    "senti['bool2'] = senti['text'].str.contains(rt_re)\n",
    "senti1 = senti[senti['bool2'] == False]\n",
    "senti1_true = senti1[senti1['bool'] == True]\n",
    "senti1_false = senti1[senti1['bool'] == False]\n",
    "a = (senti1_true.loc[:, ['est_time', 'polarity']].set_index('est_time').resample('M'))\n",
    "b = (senti1_false.loc[:, ['est_time', 'polarity']].set_index('est_time').resample('M'))\n",
    "ax = a.plot()\n",
    "b.plot(ax = ax)\n",
    "plt.axvline(pd.to_datetime('2016-11-08'), color = 'r', linestyle = 'dashed')\n",
    "plt.axvline(pd.to_datetime('2017-01-21'), color = 'r', linestyle = 'dashed')\n",
    "plt.axhline(y = 0, color = 'black')\n",
    "plt.xlabel('time')\n",
    "ax.legend(['True', 'False'])\n",
    "\n",
    "# ...then write your takeaways here.\n",
    "hash_senti_answer = '''\n",
    "\n",
    "From this graph, Trump's tweets seem to be more positive when he his tweets do contain hashtags or links compared to when\n",
    "his tweets contain neither. It is also interesting to note how significantly the polarity of his tweets in general has increased since\n",
    "he has taken office after becoming president. \n",
    "\n",
    "'''\n",
    "display(Markdown(hash_senti_answer))"
   ]
  },
  {
   "cell_type": "markdown",
   "metadata": {},
   "source": [
    "--- \n",
    "\n",
    "## Question 7: Engagement\n",
    "\n",
    "---\n",
    "<br></br>\n",
    "## Question 7a\n",
    "\n",
    "Which of Trump's tweets had the most retweets? Were there certain words that often led to more retweets?\n",
    "\n",
    "We can find this out by using our `tidy_format` DataFrame. For each word in the `tidy_format` DF, find out the number of retweets that its tweet got. Filter out words that didn't appear in at least 25 tweets, find out the median number of retweets each word got, and save the top 20 most retweeted words into a DataFrame called `top_20`. Your `top_20` table should have this format:\n",
    "\n",
    "<table border=\"1\" class=\"dataframe\">\n",
    "  <thead>\n",
    "    <tr style=\"text-align: right;\">\n",
    "      <th></th>\n",
    "      <th>retweet_count</th>\n",
    "    </tr>\n",
    "    <tr>\n",
    "      <th>word</th>\n",
    "      <th></th>\n",
    "    </tr>\n",
    "  </thead>\n",
    "  <tbody>\n",
    "    <tr>\n",
    "      <th>fake</th>\n",
    "      <td>22963.0</td>\n",
    "    </tr>\n",
    "    <tr>\n",
    "      <th>news</th>\n",
    "      <td>20463.0</td>\n",
    "    </tr>\n",
    "    <tr>\n",
    "      <th>ds100</th>\n",
    "      <td>20432.0</td>\n",
    "    </tr>\n",
    "    <tr>\n",
    "      <th>great</th>\n",
    "      <td>20159.0</td>\n",
    "    </tr>\n",
    "    <tr>\n",
    "      <th>class</th>\n",
    "      <td>20121.0</td>\n",
    "    </tr>\n",
    "  </tbody>\n",
    "</table>"
   ]
  },
  {
   "cell_type": "code",
   "execution_count": 60,
   "metadata": {},
   "outputs": [
    {
     "data": {
      "text/html": [
       "<div>\n",
       "<table border=\"1\" class=\"dataframe\">\n",
       "  <thead>\n",
       "    <tr style=\"text-align: right;\">\n",
       "      <th></th>\n",
       "      <th>retweet_count</th>\n",
       "    </tr>\n",
       "    <tr>\n",
       "      <th>word</th>\n",
       "      <th></th>\n",
       "    </tr>\n",
       "  </thead>\n",
       "  <tbody>\n",
       "    <tr>\n",
       "      <th>fake</th>\n",
       "      <td>22945.5</td>\n",
       "    </tr>\n",
       "    <tr>\n",
       "      <th>russia</th>\n",
       "      <td>21186.0</td>\n",
       "    </tr>\n",
       "    <tr>\n",
       "      <th>korea</th>\n",
       "      <td>20810.0</td>\n",
       "    </tr>\n",
       "    <tr>\n",
       "      <th>place</th>\n",
       "      <td>20627.0</td>\n",
       "    </tr>\n",
       "    <tr>\n",
       "      <th>should</th>\n",
       "      <td>20537.0</td>\n",
       "    </tr>\n",
       "  </tbody>\n",
       "</table>\n",
       "</div>"
      ],
      "text/plain": [
       "        retweet_count\n",
       "word                 \n",
       "fake          22945.5\n",
       "russia        21186.0\n",
       "korea         20810.0\n",
       "place         20627.0\n",
       "should        20537.0"
      ]
     },
     "execution_count": 60,
     "metadata": {},
     "output_type": "execute_result"
    }
   ],
   "source": [
    "tidy_format.head()\n",
    "top_20 = tidy_format.copy()\n",
    "top_20[\"retweet_count\"] = [trump.loc[i, \"retweet_count\"] for i in tidy_format.index.values]\n",
    "top_20 = top_20.groupby(\"word\").filter(lambda x: len(x) >= 25)\n",
    "top_20 = top_20.loc[:,[\"word\", \"retweet_count\"]]\n",
    "top_20 = top_20.groupby(\"word\").median()\n",
    "top_20 = top_20.sort_values(\"retweet_count\", ascending = False)\n",
    "top_20 = top_20.head(20)\n",
    "top_20.head()"
   ]
  },
  {
   "cell_type": "code",
   "execution_count": 61,
   "metadata": {
    "tags": [
     "test",
     "q07a"
    ]
   },
   "outputs": [
    {
     "name": "stdout",
     "output_type": "stream",
     "text": [
      "~~~~~~~~~~~~~~~~~~~~~~~~~~~~~~~~~~~~~~~~~~~~~~~~~~~~~~~~~~~~~~~~~~~~~\n",
      "Running tests\n",
      "\n",
      "---------------------------------------------------------------------\n",
      "Test summary\n",
      "    Passed: 1\n",
      "    Failed: 0\n",
      "[ooooooooook] 100.0% passed\n",
      "\n"
     ]
    },
    {
     "data": {
      "application/javascript": [
       "IPython.notebook.save_checkpoint();"
      ],
      "text/plain": [
       "<IPython.core.display.Javascript object>"
      ]
     },
     "metadata": {},
     "output_type": "display_data"
    },
    {
     "data": {
      "application/javascript": [
       "IPython.notebook.save_notebook();"
      ],
      "text/plain": [
       "<IPython.core.display.Javascript object>"
      ]
     },
     "metadata": {},
     "output_type": "display_data"
    },
    {
     "name": "stdout",
     "output_type": "stream",
     "text": [
      "Saving notebook... Saved 'proj1.ipynb'.\n",
      "Submit... 0.0% complete\n",
      "Could not submit: Late Submission of cal/ds100/fa17/proj1_part1\n",
      "Backup... 100% complete\n",
      "\n"
     ]
    }
   ],
   "source": [
    "_ = ok.grade('q07a')\n",
    "_ = ok.backup()"
   ]
  },
  {
   "cell_type": "markdown",
   "metadata": {},
   "source": [
    "Here's a bar chart of your results:"
   ]
  },
  {
   "cell_type": "code",
   "execution_count": 62,
   "metadata": {},
   "outputs": [
    {
     "data": {
      "text/plain": [
       "<matplotlib.axes._subplots.AxesSubplot at 0x7f581c43aa58>"
      ]
     },
     "execution_count": 62,
     "metadata": {},
     "output_type": "execute_result"
    },
    {
     "data": {
      "image/png": "[encoded data removed]",
      "text/plain": [
       "<matplotlib.figure.Figure at 0x7f581c44af28>"
      ]
     },
     "metadata": {},
     "output_type": "display_data"
    }
   ],
   "source": [
    "top_20['retweet_count'].sort_values().plot.barh(figsize=(10, 8))"
   ]
  },
  {
   "cell_type": "markdown",
   "metadata": {},
   "source": [
    "---\n",
    "<br></br>\n",
    "\n",
    "## Question 7b\n",
    "\n",
    "The phrase \"fake news\" is apparently really popular! We can conclude that Trump's tweets containing \"fake\" and/or \"news\" result in the most retweets relative to words his other tweets. Or can we?\n",
    "\n",
    "Consider each of the statements about possible confounding factors below. State whether each statement is true or false and explain. If the statement is true, state whether the confounding factor could have made \"fake\" and/or \"news\" higher on our list than they should be.\n",
    "\n",
    "1. We didn't restrict our word list to nouns, so we have unhelpful words like \"let\" and \"any\" in our result.\n",
    "1. We didn't remove hashtags in our text, so we have duplicate words (eg. #great and great).\n",
    "1. We didn't account for the fact that Trump's follower count has increased over time."
   ]
  },
  {
   "cell_type": "code",
   "execution_count": 63,
   "metadata": {
    "tags": [
     "student",
     "written"
    ]
   },
   "outputs": [
    {
     "data": {
      "text/markdown": [
       "\n",
       "\n",
       "1. True. However, this is not a confounding factor because taking a subset of nouns won't affect the ranking. \n",
       "2. False, all special characters were replaced with whitespace.\n",
       "3. True, since he probably gained many followers after being elected president. And since fake news more recently became his tagline,\n",
       "this could definitely be inflating the numbers and make the words appear more popular than they actually are. \n",
       "\n"
      ],
      "text/plain": [
       "<IPython.core.display.Markdown object>"
      ]
     },
     "metadata": {},
     "output_type": "display_data"
    }
   ],
   "source": [
    "engagement_answer = '''\n",
    "\n",
    "1. True. However, this is not a confounding factor because taking a subset of nouns won't affect the ranking. \n",
    "2. False, all special characters were replaced with whitespace.\n",
    "3. True, since he probably gained many followers after being elected president. And since fake news more recently became his tagline,\n",
    "this could definitely be inflating the numbers and make the words appear more popular than they actually are. \n",
    "\n",
    "'''\n",
    "display(Markdown(engagement_answer))"
   ]
  },
  {
   "cell_type": "markdown",
   "metadata": {},
   "source": [
    "---\n",
    "## Question 8: Fake News\n",
    "\n",
    "---\n",
    "<br></br>\n",
    "## Question 8a \n",
    "\n",
    "Let's investigate the term \"fake news\" a bit more. Create a table called `fake_counts` that has two columns:\n",
    "\n",
    "1. `fake_news`: The number of tweets containing the term \"fake news\".\n",
    "1. `total`: The total number of tweets for the time period.\n",
    "\n",
    "The index of the table should be datetimes for each two-week period in the data.\n",
    "\n",
    "The resulting table should look like:\n",
    "\n",
    "<table border=\"1\" class=\"dataframe\">\n",
    "  <thead>\n",
    "    <tr style=\"text-align: right;\">\n",
    "      <th></th>\n",
    "      <th>fake_news</th>\n",
    "      <th>total</th>\n",
    "    </tr>\n",
    "    <tr>\n",
    "      <th>time</th>\n",
    "      <th></th>\n",
    "      <th></th>\n",
    "    </tr>\n",
    "  </thead>\n",
    "  <tbody>\n",
    "    <tr>\n",
    "      <th>2016-07-31</th>\n",
    "      <td>0</td>\n",
    "      <td>79</td>\n",
    "    </tr>\n",
    "    <tr>\n",
    "      <th>2016-08-14</th>\n",
    "      <td>0</td>\n",
    "      <td>143</td>\n",
    "    </tr>\n",
    "    <tr>\n",
    "      <th>2016-08-28</th>\n",
    "      <td>0</td>\n",
    "      <td>118</td>\n",
    "    </tr>\n",
    "    <tr>\n",
    "      <th>2016-09-11</th>\n",
    "      <td>0</td>\n",
    "      <td>121</td>\n",
    "    </tr>\n",
    "    <tr>\n",
    "      <th>2016-09-25</th>\n",
    "      <td>0</td>\n",
    "      <td>111</td>\n",
    "    </tr>\n",
    "  </tbody>\n",
    "</table>"
   ]
  },
  {
   "cell_type": "code",
   "execution_count": 64,
   "metadata": {
    "tags": [
     "student"
    ]
   },
   "outputs": [
    {
     "data": {
      "text/html": [
       "<div>\n",
       "<table border=\"1\" class=\"dataframe\">\n",
       "  <thead>\n",
       "    <tr style=\"text-align: right;\">\n",
       "      <th></th>\n",
       "      <th>fake_news</th>\n",
       "      <th>total</th>\n",
       "    </tr>\n",
       "  </thead>\n",
       "  <tbody>\n",
       "    <tr>\n",
       "      <th>2016-07-31</th>\n",
       "      <td>0.0</td>\n",
       "      <td>68</td>\n",
       "    </tr>\n",
       "    <tr>\n",
       "      <th>2016-08-14</th>\n",
       "      <td>0.0</td>\n",
       "      <td>144</td>\n",
       "    </tr>\n",
       "    <tr>\n",
       "      <th>2016-08-28</th>\n",
       "      <td>0.0</td>\n",
       "      <td>116</td>\n",
       "    </tr>\n",
       "    <tr>\n",
       "      <th>2016-09-11</th>\n",
       "      <td>0.0</td>\n",
       "      <td>121</td>\n",
       "    </tr>\n",
       "    <tr>\n",
       "      <th>2016-09-25</th>\n",
       "      <td>0.0</td>\n",
       "      <td>113</td>\n",
       "    </tr>\n",
       "    <tr>\n",
       "      <th>2016-10-09</th>\n",
       "      <td>0.0</td>\n",
       "      <td>255</td>\n",
       "    </tr>\n",
       "    <tr>\n",
       "      <th>2016-10-23</th>\n",
       "      <td>0.0</td>\n",
       "      <td>264</td>\n",
       "    </tr>\n",
       "    <tr>\n",
       "      <th>2016-11-06</th>\n",
       "      <td>0.0</td>\n",
       "      <td>167</td>\n",
       "    </tr>\n",
       "    <tr>\n",
       "      <th>2016-11-20</th>\n",
       "      <td>0.0</td>\n",
       "      <td>66</td>\n",
       "    </tr>\n",
       "    <tr>\n",
       "      <th>2016-12-04</th>\n",
       "      <td>0.0</td>\n",
       "      <td>76</td>\n",
       "    </tr>\n",
       "    <tr>\n",
       "      <th>2016-12-18</th>\n",
       "      <td>1.0</td>\n",
       "      <td>69</td>\n",
       "    </tr>\n",
       "    <tr>\n",
       "      <th>2017-01-01</th>\n",
       "      <td>0.0</td>\n",
       "      <td>52</td>\n",
       "    </tr>\n",
       "    <tr>\n",
       "      <th>2017-01-15</th>\n",
       "      <td>6.0</td>\n",
       "      <td>105</td>\n",
       "    </tr>\n",
       "    <tr>\n",
       "      <th>2017-01-29</th>\n",
       "      <td>4.0</td>\n",
       "      <td>91</td>\n",
       "    </tr>\n",
       "    <tr>\n",
       "      <th>2017-02-12</th>\n",
       "      <td>8.0</td>\n",
       "      <td>91</td>\n",
       "    </tr>\n",
       "    <tr>\n",
       "      <th>2017-02-26</th>\n",
       "      <td>9.0</td>\n",
       "      <td>63</td>\n",
       "    </tr>\n",
       "    <tr>\n",
       "      <th>2017-03-12</th>\n",
       "      <td>2.0</td>\n",
       "      <td>54</td>\n",
       "    </tr>\n",
       "    <tr>\n",
       "      <th>2017-03-26</th>\n",
       "      <td>5.0</td>\n",
       "      <td>62</td>\n",
       "    </tr>\n",
       "    <tr>\n",
       "      <th>2017-04-09</th>\n",
       "      <td>3.0</td>\n",
       "      <td>64</td>\n",
       "    </tr>\n",
       "    <tr>\n",
       "      <th>2017-04-23</th>\n",
       "      <td>0.0</td>\n",
       "      <td>70</td>\n",
       "    </tr>\n",
       "    <tr>\n",
       "      <th>2017-05-07</th>\n",
       "      <td>4.0</td>\n",
       "      <td>82</td>\n",
       "    </tr>\n",
       "    <tr>\n",
       "      <th>2017-05-21</th>\n",
       "      <td>2.0</td>\n",
       "      <td>60</td>\n",
       "    </tr>\n",
       "    <tr>\n",
       "      <th>2017-06-04</th>\n",
       "      <td>5.0</td>\n",
       "      <td>72</td>\n",
       "    </tr>\n",
       "    <tr>\n",
       "      <th>2017-06-18</th>\n",
       "      <td>4.0</td>\n",
       "      <td>82</td>\n",
       "    </tr>\n",
       "    <tr>\n",
       "      <th>2017-07-02</th>\n",
       "      <td>8.0</td>\n",
       "      <td>120</td>\n",
       "    </tr>\n",
       "    <tr>\n",
       "      <th>2017-07-16</th>\n",
       "      <td>5.0</td>\n",
       "      <td>111</td>\n",
       "    </tr>\n",
       "    <tr>\n",
       "      <th>2017-07-30</th>\n",
       "      <td>11.0</td>\n",
       "      <td>111</td>\n",
       "    </tr>\n",
       "    <tr>\n",
       "      <th>2017-08-13</th>\n",
       "      <td>8.0</td>\n",
       "      <td>112</td>\n",
       "    </tr>\n",
       "    <tr>\n",
       "      <th>2017-08-27</th>\n",
       "      <td>9.0</td>\n",
       "      <td>128</td>\n",
       "    </tr>\n",
       "    <tr>\n",
       "      <th>2017-09-10</th>\n",
       "      <td>0.0</td>\n",
       "      <td>92</td>\n",
       "    </tr>\n",
       "    <tr>\n",
       "      <th>2017-09-24</th>\n",
       "      <td>2.0</td>\n",
       "      <td>137</td>\n",
       "    </tr>\n",
       "    <tr>\n",
       "      <th>2017-10-08</th>\n",
       "      <td>0.0</td>\n",
       "      <td>24</td>\n",
       "    </tr>\n",
       "  </tbody>\n",
       "</table>\n",
       "</div>"
      ],
      "text/plain": [
       "            fake_news  total\n",
       "2016-07-31        0.0     68\n",
       "2016-08-14        0.0    144\n",
       "2016-08-28        0.0    116\n",
       "2016-09-11        0.0    121\n",
       "2016-09-25        0.0    113\n",
       "2016-10-09        0.0    255\n",
       "2016-10-23        0.0    264\n",
       "2016-11-06        0.0    167\n",
       "2016-11-20        0.0     66\n",
       "2016-12-04        0.0     76\n",
       "2016-12-18        1.0     69\n",
       "2017-01-01        0.0     52\n",
       "2017-01-15        6.0    105\n",
       "2017-01-29        4.0     91\n",
       "2017-02-12        8.0     91\n",
       "2017-02-26        9.0     63\n",
       "2017-03-12        2.0     54\n",
       "2017-03-26        5.0     62\n",
       "2017-04-09        3.0     64\n",
       "2017-04-23        0.0     70\n",
       "2017-05-07        4.0     82\n",
       "2017-05-21        2.0     60\n",
       "2017-06-04        5.0     72\n",
       "2017-06-18        4.0     82\n",
       "2017-07-02        8.0    120\n",
       "2017-07-16        5.0    111\n",
       "2017-07-30       11.0    111\n",
       "2017-08-13        8.0    112\n",
       "2017-08-27        9.0    128\n",
       "2017-09-10        0.0     92\n",
       "2017-09-24        2.0    137\n",
       "2017-10-08        0.0     24"
      ]
     },
     "execution_count": 64,
     "metadata": {},
     "output_type": "execute_result"
    }
   ],
   "source": [
    "temp = senti.copy()\n",
    "temp['fake_counts_bool'] = temp['text'].str.contains('fake news')\n",
    "temp_true = temp[temp['fake_counts_bool'] == True]\n",
    "a = (temp_true.loc[:, ['est_time', 'fake_counts_bool']].set_index('est_time')\n",
    "     .resample('2W-SUN', closed = 'left')).count()\n",
    "b = (temp.loc[:, ['est_time', 'fake_counts_bool']].set_index('est_time').resample('2W-SUN')).count()\n",
    "fake_counts = pd.concat([a, b], axis=1).fillna(0)\n",
    "fake_counts.columns = (['fake_news', 'total'])\n",
    "fake_counts.index = pd.DatetimeIndex(fake_counts.index).date\n",
    "fake_counts"
   ]
  },
  {
   "cell_type": "code",
   "execution_count": 65,
   "metadata": {
    "tags": [
     "test",
     "q08a"
    ]
   },
   "outputs": [
    {
     "name": "stdout",
     "output_type": "stream",
     "text": [
      "~~~~~~~~~~~~~~~~~~~~~~~~~~~~~~~~~~~~~~~~~~~~~~~~~~~~~~~~~~~~~~~~~~~~~\n",
      "Running tests\n",
      "\n",
      "---------------------------------------------------------------------\n",
      "Test summary\n",
      "    Passed: 1\n",
      "    Failed: 0\n",
      "[ooooooooook] 100.0% passed\n",
      "\n"
     ]
    },
    {
     "data": {
      "application/javascript": [
       "IPython.notebook.save_checkpoint();"
      ],
      "text/plain": [
       "<IPython.core.display.Javascript object>"
      ]
     },
     "metadata": {},
     "output_type": "display_data"
    },
    {
     "data": {
      "application/javascript": [
       "IPython.notebook.save_notebook();"
      ],
      "text/plain": [
       "<IPython.core.display.Javascript object>"
      ]
     },
     "metadata": {},
     "output_type": "display_data"
    },
    {
     "name": "stdout",
     "output_type": "stream",
     "text": [
      "Saving notebook... Saved 'proj1.ipynb'.\n",
      "Submit... 0.0% complete\n",
      "Could not submit: Late Submission of cal/ds100/fa17/proj1_part1\n",
      "Backup... 100% complete\n",
      "\n"
     ]
    }
   ],
   "source": [
    "_ = ok.grade('q08a')\n",
    "_ = ok.backup()"
   ]
  },
  {
   "cell_type": "markdown",
   "metadata": {},
   "source": [
    "--- \n",
    "<br></br>\n",
    "\n",
    "## Question 8b\n",
    "\n",
    "Now, create a line plot showing the proportion of tweets containing the term \"fake news\" over time. Then, draw two vertical lines corresponding to the election and inauguration dates.\n",
    "\n",
    "What do you notice? Write your conclusions in `fake_news_answer`."
   ]
  },
  {
   "cell_type": "code",
   "execution_count": 66,
   "metadata": {
    "tags": [
     "student",
     "written"
    ]
   },
   "outputs": [
    {
     "data": {
      "text/markdown": [
       "\n",
       "\n",
       "The famous term of fake news seems to only have originated after Trump was elected, since it had 0 usage before. It seems\n",
       "to have stuck thanks to Trump's constant criticism of news outlets as 'fake news', and news outlets' criticism of Trump\n",
       "as well. However, it seems to have decreased as of recently compared to previous months. \n",
       "\n"
      ],
      "text/plain": [
       "<IPython.core.display.Markdown object>"
      ]
     },
     "metadata": {},
     "output_type": "display_data"
    },
    {
     "data": {
      "image/png": "[encoded data removed]",
      "text/plain": [
       "<matplotlib.figure.Figure at 0x7f5811801f60>"
      ]
     },
     "metadata": {},
     "output_type": "display_data"
    }
   ],
   "source": [
    "# Create your plot here...\n",
    "\n",
    "c = (temp.loc[:, ['est_time', 'fake_counts_bool']].set_index('est_time').resample('2W-SAT')).plot()\n",
    "c.legend('Prop')\n",
    "plt.axvline(pd.to_datetime('2016-11-08'), color = 'r', linestyle = 'dashed')\n",
    "plt.axvline(pd.to_datetime('2017-01-21'), color = 'r', linestyle = 'dashed')\n",
    "plt.xlabel('Time')\n",
    "\n",
    "# ...then write your takeaways here.\n",
    "fake_news_answer = '''\n",
    "\n",
    "The famous term of fake news seems to only have originated after Trump was elected, since it had 0 usage before. It seems\n",
    "to have stuck thanks to Trump's constant criticism of news outlets as 'fake news', and news outlets' criticism of Trump\n",
    "as well. However, it seems to have decreased as of recently compared to previous months. \n",
    "\n",
    "'''\n",
    "display(Markdown(fake_news_answer))"
   ]
  },
  {
   "cell_type": "markdown",
   "metadata": {},
   "source": [
    "## Submission\n",
    "\n",
    "Congrats, you just finished Project 1!\n",
    "\n",
    "Run the cell below to run all the OkPy tests at once:"
   ]
  },
  {
   "cell_type": "code",
   "execution_count": 67,
   "metadata": {},
   "outputs": [
    {
     "name": "stdout",
     "output_type": "stream",
     "text": [
      "Running all tests...\n",
      "~~~~~~~~~~~~~~~~~~~~~~~~~~~~~~~~~~~~~~~~~~~~~~~~~~~~~~~~~~~~~~~~~~~~~\n",
      "Running tests\n",
      "\n",
      "---------------------------------------------------------------------\n",
      "Test summary\n",
      "    Passed: 1\n",
      "    Failed: 0\n",
      "[ooooooooook] 100.0% passed\n",
      "\n",
      "~~~~~~~~~~~~~~~~~~~~~~~~~~~~~~~~~~~~~~~~~~~~~~~~~~~~~~~~~~~~~~~~~~~~~\n",
      "Running tests\n",
      "\n",
      "---------------------------------------------------------------------\n",
      "Test summary\n",
      "    Passed: 1\n",
      "    Failed: 0\n",
      "[ooooooooook] 100.0% passed\n",
      "\n",
      "~~~~~~~~~~~~~~~~~~~~~~~~~~~~~~~~~~~~~~~~~~~~~~~~~~~~~~~~~~~~~~~~~~~~~\n",
      "Running tests\n",
      "\n",
      "---------------------------------------------------------------------\n",
      "Test summary\n",
      "    Passed: 1\n",
      "    Failed: 0\n",
      "[ooooooooook] 100.0% passed\n",
      "\n",
      "~~~~~~~~~~~~~~~~~~~~~~~~~~~~~~~~~~~~~~~~~~~~~~~~~~~~~~~~~~~~~~~~~~~~~\n",
      "Running tests\n",
      "\n",
      "---------------------------------------------------------------------\n",
      "Test summary\n",
      "    Passed: 1\n",
      "    Failed: 0\n",
      "[ooooooooook] 100.0% passed\n",
      "\n",
      "~~~~~~~~~~~~~~~~~~~~~~~~~~~~~~~~~~~~~~~~~~~~~~~~~~~~~~~~~~~~~~~~~~~~~\n",
      "Running tests\n",
      "\n",
      "---------------------------------------------------------------------\n",
      "Test summary\n",
      "    Passed: 1\n",
      "    Failed: 0\n",
      "[ooooooooook] 100.0% passed\n",
      "\n",
      "~~~~~~~~~~~~~~~~~~~~~~~~~~~~~~~~~~~~~~~~~~~~~~~~~~~~~~~~~~~~~~~~~~~~~\n",
      "Running tests\n",
      "\n",
      "---------------------------------------------------------------------\n",
      "Test summary\n",
      "    Passed: 1\n",
      "    Failed: 0\n",
      "[ooooooooook] 100.0% passed\n",
      "\n",
      "~~~~~~~~~~~~~~~~~~~~~~~~~~~~~~~~~~~~~~~~~~~~~~~~~~~~~~~~~~~~~~~~~~~~~\n",
      "Running tests\n",
      "\n",
      "---------------------------------------------------------------------\n",
      "Test summary\n",
      "    Passed: 1\n",
      "    Failed: 0\n",
      "[ooooooooook] 100.0% passed\n",
      "\n",
      "~~~~~~~~~~~~~~~~~~~~~~~~~~~~~~~~~~~~~~~~~~~~~~~~~~~~~~~~~~~~~~~~~~~~~\n",
      "Running tests\n",
      "\n",
      "---------------------------------------------------------------------\n",
      "Test summary\n",
      "    Passed: 1\n",
      "    Failed: 0\n",
      "[ooooooooook] 100.0% passed\n",
      "\n",
      "~~~~~~~~~~~~~~~~~~~~~~~~~~~~~~~~~~~~~~~~~~~~~~~~~~~~~~~~~~~~~~~~~~~~~\n",
      "Running tests\n",
      "\n",
      "---------------------------------------------------------------------\n",
      "Test summary\n",
      "    Passed: 1\n",
      "    Failed: 0\n",
      "[ooooooooook] 100.0% passed\n",
      "\n",
      "~~~~~~~~~~~~~~~~~~~~~~~~~~~~~~~~~~~~~~~~~~~~~~~~~~~~~~~~~~~~~~~~~~~~~\n",
      "Running tests\n",
      "\n",
      "---------------------------------------------------------------------\n",
      "Test summary\n",
      "    Passed: 1\n",
      "    Failed: 0\n",
      "[ooooooooook] 100.0% passed\n",
      "\n",
      "~~~~~~~~~~~~~~~~~~~~~~~~~~~~~~~~~~~~~~~~~~~~~~~~~~~~~~~~~~~~~~~~~~~~~\n",
      "Running tests\n",
      "\n",
      "---------------------------------------------------------------------\n",
      "Test summary\n",
      "    Passed: 1\n",
      "    Failed: 0\n",
      "[ooooooooook] 100.0% passed\n",
      "\n"
     ]
    }
   ],
   "source": [
    "import os\n",
    "print(\"Running all tests...\")\n",
    "_ = [ok.grade(q[:-3]) for q in os.listdir(\"ok_tests\") if q.startswith('q')]"
   ]
  },
  {
   "cell_type": "markdown",
   "metadata": {},
   "source": [
    "Now, run the cell below to submit your assignment to OkPy. The autograder should email you shortly with your autograded score. The autograder will only run once every 30 minutes.\n",
    "\n",
    "**If you're failing tests on the autograder but pass them locally**, you should simulate the autograder by doing the following:\n",
    "\n",
    "1. In the top menu, click Kernel -> Restart and Run all.\n",
    "2. Run the cell above to run each OkPy test.\n",
    "\n",
    "**You must make sure that you pass all the tests when running steps 1 and 2 in order.** If you are still failing autograder tests, you should double check your results."
   ]
  },
  {
   "cell_type": "code",
   "execution_count": 68,
   "metadata": {},
   "outputs": [
    {
     "data": {
      "application/javascript": [
       "IPython.notebook.save_checkpoint();"
      ],
      "text/plain": [
       "<IPython.core.display.Javascript object>"
      ]
     },
     "metadata": {},
     "output_type": "display_data"
    },
    {
     "data": {
      "application/javascript": [
       "IPython.notebook.save_notebook();"
      ],
      "text/plain": [
       "<IPython.core.display.Javascript object>"
      ]
     },
     "metadata": {},
     "output_type": "display_data"
    },
    {
     "name": "stdout",
     "output_type": "stream",
     "text": [
      "Saving notebook... Saved 'proj1.ipynb'.\n",
      "Submit... 0.0% complete\n",
      "Could not submit: Late Submission of cal/ds100/fa17/proj1_part1\n",
      "Backup... 100% complete\n",
      "\n"
     ]
    }
   ],
   "source": [
    "_ = ok.submit()"
   ]
  },
  {
   "cell_type": "code",
   "execution_count": null,
   "metadata": {},
   "outputs": [],
   "source": []
  }
 ],
 "metadata": {
  "kernelspec": {
   "display_name": "Python 3",
   "language": "python",
   "name": "python3"
  },
  "language_info": {
   "codemirror_mode": {
    "name": "ipython",
    "version": 3
   },
   "file_extension": ".py",
   "mimetype": "text/x-python",
   "name": "python",
   "nbconvert_exporter": "python",
   "pygments_lexer": "ipython3",
   "version": "3.6.1"
  }
 },
 "nbformat": 4,
 "nbformat_minor": 2
}
